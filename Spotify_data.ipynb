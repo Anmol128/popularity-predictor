{
  "nbformat": 4,
  "nbformat_minor": 0,
  "metadata": {
    "colab": {
      "name": "Copy of Spotify_data.ipynb",
      "provenance": []
    },
    "kernelspec": {
      "name": "python3",
      "display_name": "Python 3"
    },
    "language_info": {
      "name": "python"
    }
  },
  "cells": [
    {
      "cell_type": "code",
      "source": [
        "!pip install -U imbalanced-learn"
      ],
      "metadata": {
        "colab": {
          "base_uri": "https://localhost:8080/"
        },
        "id": "J0VY7LiJd7B8",
        "outputId": "220affc6-c89d-4a42-aa6e-bb95f8c13263"
      },
      "execution_count": null,
      "outputs": [
        {
          "output_type": "stream",
          "name": "stdout",
          "text": [
            "Requirement already satisfied: imbalanced-learn in /usr/local/lib/python3.7/dist-packages (0.9.0)\n",
            "Requirement already satisfied: numpy>=1.14.6 in /usr/local/lib/python3.7/dist-packages (from imbalanced-learn) (1.21.6)\n",
            "Requirement already satisfied: scipy>=1.1.0 in /usr/local/lib/python3.7/dist-packages (from imbalanced-learn) (1.4.1)\n",
            "Requirement already satisfied: threadpoolctl>=2.0.0 in /usr/local/lib/python3.7/dist-packages (from imbalanced-learn) (3.1.0)\n",
            "Requirement already satisfied: joblib>=0.11 in /usr/local/lib/python3.7/dist-packages (from imbalanced-learn) (1.1.0)\n",
            "Requirement already satisfied: scikit-learn>=1.0.1 in /usr/local/lib/python3.7/dist-packages (from imbalanced-learn) (1.0.2)\n"
          ]
        }
      ]
    },
    {
      "cell_type": "markdown",
      "source": [
        ""
      ],
      "metadata": {
        "id": "YRsU1NGifRNw"
      }
    },
    {
      "cell_type": "code",
      "execution_count": null,
      "metadata": {
        "id": "BVQvBwAT0krH"
      },
      "outputs": [],
      "source": [
        "import pandas as pd\n"
      ]
    },
    {
      "cell_type": "code",
      "source": [
        "data = pd.read_csv('audio_features.csv')  "
      ],
      "metadata": {
        "id": "uL8rnq430vSD"
      },
      "execution_count": null,
      "outputs": []
    },
    {
      "cell_type": "code",
      "source": [
        "data.head()"
      ],
      "metadata": {
        "colab": {
          "base_uri": "https://localhost:8080/",
          "height": 374
        },
        "id": "fURmxsz500py",
        "outputId": "508e33f5-6b50-4b30-b793-a075f044a10c"
      },
      "execution_count": null,
      "outputs": [
        {
          "output_type": "execute_result",
          "data": {
            "text/plain": [
              "                 Track ID           Name             Album Release Date  \\\n",
              "0  5aAx2yezTd8zXrkmtKl66Z        Starboy           Starboy   2016-11-25   \n",
              "1  1zi7xx7UVEFkmKfv06H8x0      One Dance             Views   2016-05-06   \n",
              "2  3hB5DgAiMAQ4DzYbsMq1IT  Love Yourself  Purpose (Deluxe)   2015-11-13   \n",
              "3  7BKLCZ1jbUBVqRi2FVlTVw         Closer            Closer   2016-07-29   \n",
              "4  1MDoll6jK4rrk2BcFRP5i7          Hello             Hello   2015-10-23   \n",
              "\n",
              "   Popularity  Acousticness  Danceability  Duration (ms)  Energy  \\\n",
              "0           0       0.16500         0.681         230453   0.594   \n",
              "1          83       0.00776         0.792         173987   0.625   \n",
              "2           0       0.83500         0.609         233720   0.378   \n",
              "3          83       0.41400         0.748         244960   0.524   \n",
              "4           1       0.32900         0.471         295502   0.431   \n",
              "\n",
              "   Instrumentalness  Key  Liveness  Loudness  Mode  Speechiness    Tempo  \\\n",
              "0          0.000003    7    0.1340    -7.028     1       0.2820  186.054   \n",
              "1          0.001800    1    0.3290    -5.609     1       0.0536  103.967   \n",
              "2          0.000000    4    0.2800    -9.828     1       0.4380  100.418   \n",
              "3          0.000000    8    0.1110    -5.599     1       0.0338   95.010   \n",
              "4          0.000000    5    0.0854    -6.129     0       0.0342  157.980   \n",
              "\n",
              "   Time Signature  Valence  \n",
              "0               4    0.535  \n",
              "1               4    0.370  \n",
              "2               4    0.515  \n",
              "3               4    0.661  \n",
              "4               4    0.289  "
            ],
            "text/html": [
              "\n",
              "  <div id=\"df-331004b6-d467-479b-993a-408edb6c25b1\">\n",
              "    <div class=\"colab-df-container\">\n",
              "      <div>\n",
              "<style scoped>\n",
              "    .dataframe tbody tr th:only-of-type {\n",
              "        vertical-align: middle;\n",
              "    }\n",
              "\n",
              "    .dataframe tbody tr th {\n",
              "        vertical-align: top;\n",
              "    }\n",
              "\n",
              "    .dataframe thead th {\n",
              "        text-align: right;\n",
              "    }\n",
              "</style>\n",
              "<table border=\"1\" class=\"dataframe\">\n",
              "  <thead>\n",
              "    <tr style=\"text-align: right;\">\n",
              "      <th></th>\n",
              "      <th>Track ID</th>\n",
              "      <th>Name</th>\n",
              "      <th>Album</th>\n",
              "      <th>Release Date</th>\n",
              "      <th>Popularity</th>\n",
              "      <th>Acousticness</th>\n",
              "      <th>Danceability</th>\n",
              "      <th>Duration (ms)</th>\n",
              "      <th>Energy</th>\n",
              "      <th>Instrumentalness</th>\n",
              "      <th>Key</th>\n",
              "      <th>Liveness</th>\n",
              "      <th>Loudness</th>\n",
              "      <th>Mode</th>\n",
              "      <th>Speechiness</th>\n",
              "      <th>Tempo</th>\n",
              "      <th>Time Signature</th>\n",
              "      <th>Valence</th>\n",
              "    </tr>\n",
              "  </thead>\n",
              "  <tbody>\n",
              "    <tr>\n",
              "      <th>0</th>\n",
              "      <td>5aAx2yezTd8zXrkmtKl66Z</td>\n",
              "      <td>Starboy</td>\n",
              "      <td>Starboy</td>\n",
              "      <td>2016-11-25</td>\n",
              "      <td>0</td>\n",
              "      <td>0.16500</td>\n",
              "      <td>0.681</td>\n",
              "      <td>230453</td>\n",
              "      <td>0.594</td>\n",
              "      <td>0.000003</td>\n",
              "      <td>7</td>\n",
              "      <td>0.1340</td>\n",
              "      <td>-7.028</td>\n",
              "      <td>1</td>\n",
              "      <td>0.2820</td>\n",
              "      <td>186.054</td>\n",
              "      <td>4</td>\n",
              "      <td>0.535</td>\n",
              "    </tr>\n",
              "    <tr>\n",
              "      <th>1</th>\n",
              "      <td>1zi7xx7UVEFkmKfv06H8x0</td>\n",
              "      <td>One Dance</td>\n",
              "      <td>Views</td>\n",
              "      <td>2016-05-06</td>\n",
              "      <td>83</td>\n",
              "      <td>0.00776</td>\n",
              "      <td>0.792</td>\n",
              "      <td>173987</td>\n",
              "      <td>0.625</td>\n",
              "      <td>0.001800</td>\n",
              "      <td>1</td>\n",
              "      <td>0.3290</td>\n",
              "      <td>-5.609</td>\n",
              "      <td>1</td>\n",
              "      <td>0.0536</td>\n",
              "      <td>103.967</td>\n",
              "      <td>4</td>\n",
              "      <td>0.370</td>\n",
              "    </tr>\n",
              "    <tr>\n",
              "      <th>2</th>\n",
              "      <td>3hB5DgAiMAQ4DzYbsMq1IT</td>\n",
              "      <td>Love Yourself</td>\n",
              "      <td>Purpose (Deluxe)</td>\n",
              "      <td>2015-11-13</td>\n",
              "      <td>0</td>\n",
              "      <td>0.83500</td>\n",
              "      <td>0.609</td>\n",
              "      <td>233720</td>\n",
              "      <td>0.378</td>\n",
              "      <td>0.000000</td>\n",
              "      <td>4</td>\n",
              "      <td>0.2800</td>\n",
              "      <td>-9.828</td>\n",
              "      <td>1</td>\n",
              "      <td>0.4380</td>\n",
              "      <td>100.418</td>\n",
              "      <td>4</td>\n",
              "      <td>0.515</td>\n",
              "    </tr>\n",
              "    <tr>\n",
              "      <th>3</th>\n",
              "      <td>7BKLCZ1jbUBVqRi2FVlTVw</td>\n",
              "      <td>Closer</td>\n",
              "      <td>Closer</td>\n",
              "      <td>2016-07-29</td>\n",
              "      <td>83</td>\n",
              "      <td>0.41400</td>\n",
              "      <td>0.748</td>\n",
              "      <td>244960</td>\n",
              "      <td>0.524</td>\n",
              "      <td>0.000000</td>\n",
              "      <td>8</td>\n",
              "      <td>0.1110</td>\n",
              "      <td>-5.599</td>\n",
              "      <td>1</td>\n",
              "      <td>0.0338</td>\n",
              "      <td>95.010</td>\n",
              "      <td>4</td>\n",
              "      <td>0.661</td>\n",
              "    </tr>\n",
              "    <tr>\n",
              "      <th>4</th>\n",
              "      <td>1MDoll6jK4rrk2BcFRP5i7</td>\n",
              "      <td>Hello</td>\n",
              "      <td>Hello</td>\n",
              "      <td>2015-10-23</td>\n",
              "      <td>1</td>\n",
              "      <td>0.32900</td>\n",
              "      <td>0.471</td>\n",
              "      <td>295502</td>\n",
              "      <td>0.431</td>\n",
              "      <td>0.000000</td>\n",
              "      <td>5</td>\n",
              "      <td>0.0854</td>\n",
              "      <td>-6.129</td>\n",
              "      <td>0</td>\n",
              "      <td>0.0342</td>\n",
              "      <td>157.980</td>\n",
              "      <td>4</td>\n",
              "      <td>0.289</td>\n",
              "    </tr>\n",
              "  </tbody>\n",
              "</table>\n",
              "</div>\n",
              "      <button class=\"colab-df-convert\" onclick=\"convertToInteractive('df-331004b6-d467-479b-993a-408edb6c25b1')\"\n",
              "              title=\"Convert this dataframe to an interactive table.\"\n",
              "              style=\"display:none;\">\n",
              "        \n",
              "  <svg xmlns=\"http://www.w3.org/2000/svg\" height=\"24px\"viewBox=\"0 0 24 24\"\n",
              "       width=\"24px\">\n",
              "    <path d=\"M0 0h24v24H0V0z\" fill=\"none\"/>\n",
              "    <path d=\"M18.56 5.44l.94 2.06.94-2.06 2.06-.94-2.06-.94-.94-2.06-.94 2.06-2.06.94zm-11 1L8.5 8.5l.94-2.06 2.06-.94-2.06-.94L8.5 2.5l-.94 2.06-2.06.94zm10 10l.94 2.06.94-2.06 2.06-.94-2.06-.94-.94-2.06-.94 2.06-2.06.94z\"/><path d=\"M17.41 7.96l-1.37-1.37c-.4-.4-.92-.59-1.43-.59-.52 0-1.04.2-1.43.59L10.3 9.45l-7.72 7.72c-.78.78-.78 2.05 0 2.83L4 21.41c.39.39.9.59 1.41.59.51 0 1.02-.2 1.41-.59l7.78-7.78 2.81-2.81c.8-.78.8-2.07 0-2.86zM5.41 20L4 18.59l7.72-7.72 1.47 1.35L5.41 20z\"/>\n",
              "  </svg>\n",
              "      </button>\n",
              "      \n",
              "  <style>\n",
              "    .colab-df-container {\n",
              "      display:flex;\n",
              "      flex-wrap:wrap;\n",
              "      gap: 12px;\n",
              "    }\n",
              "\n",
              "    .colab-df-convert {\n",
              "      background-color: #E8F0FE;\n",
              "      border: none;\n",
              "      border-radius: 50%;\n",
              "      cursor: pointer;\n",
              "      display: none;\n",
              "      fill: #1967D2;\n",
              "      height: 32px;\n",
              "      padding: 0 0 0 0;\n",
              "      width: 32px;\n",
              "    }\n",
              "\n",
              "    .colab-df-convert:hover {\n",
              "      background-color: #E2EBFA;\n",
              "      box-shadow: 0px 1px 2px rgba(60, 64, 67, 0.3), 0px 1px 3px 1px rgba(60, 64, 67, 0.15);\n",
              "      fill: #174EA6;\n",
              "    }\n",
              "\n",
              "    [theme=dark] .colab-df-convert {\n",
              "      background-color: #3B4455;\n",
              "      fill: #D2E3FC;\n",
              "    }\n",
              "\n",
              "    [theme=dark] .colab-df-convert:hover {\n",
              "      background-color: #434B5C;\n",
              "      box-shadow: 0px 1px 3px 1px rgba(0, 0, 0, 0.15);\n",
              "      filter: drop-shadow(0px 1px 2px rgba(0, 0, 0, 0.3));\n",
              "      fill: #FFFFFF;\n",
              "    }\n",
              "  </style>\n",
              "\n",
              "      <script>\n",
              "        const buttonEl =\n",
              "          document.querySelector('#df-331004b6-d467-479b-993a-408edb6c25b1 button.colab-df-convert');\n",
              "        buttonEl.style.display =\n",
              "          google.colab.kernel.accessAllowed ? 'block' : 'none';\n",
              "\n",
              "        async function convertToInteractive(key) {\n",
              "          const element = document.querySelector('#df-331004b6-d467-479b-993a-408edb6c25b1');\n",
              "          const dataTable =\n",
              "            await google.colab.kernel.invokeFunction('convertToInteractive',\n",
              "                                                     [key], {});\n",
              "          if (!dataTable) return;\n",
              "\n",
              "          const docLinkHtml = 'Like what you see? Visit the ' +\n",
              "            '<a target=\"_blank\" href=https://colab.research.google.com/notebooks/data_table.ipynb>data table notebook</a>'\n",
              "            + ' to learn more about interactive tables.';\n",
              "          element.innerHTML = '';\n",
              "          dataTable['output_type'] = 'display_data';\n",
              "          await google.colab.output.renderOutput(dataTable, element);\n",
              "          const docLink = document.createElement('div');\n",
              "          docLink.innerHTML = docLinkHtml;\n",
              "          element.appendChild(docLink);\n",
              "        }\n",
              "      </script>\n",
              "    </div>\n",
              "  </div>\n",
              "  "
            ]
          },
          "metadata": {},
          "execution_count": 11
        }
      ]
    },
    {
      "cell_type": "code",
      "source": [
        "data['Duration (m)'] = data['Duration (ms)'].div(60000)"
      ],
      "metadata": {
        "id": "_rF3Akyh1jZP"
      },
      "execution_count": null,
      "outputs": []
    },
    {
      "cell_type": "code",
      "source": [
        "data = data.drop(columns=['Duration (ms)'])"
      ],
      "metadata": {
        "id": "MDdJp8k52jFT"
      },
      "execution_count": null,
      "outputs": []
    },
    {
      "cell_type": "code",
      "source": [
        "data.head()"
      ],
      "metadata": {
        "colab": {
          "base_uri": "https://localhost:8080/",
          "height": 374
        },
        "id": "0Jl7doZu1toX",
        "outputId": "38ac0aec-4d05-4970-a193-0965540fdb87"
      },
      "execution_count": null,
      "outputs": [
        {
          "output_type": "execute_result",
          "data": {
            "text/plain": [
              "                 Track ID           Name             Album Release Date  \\\n",
              "0  5aAx2yezTd8zXrkmtKl66Z        Starboy           Starboy   2016-11-25   \n",
              "1  1zi7xx7UVEFkmKfv06H8x0      One Dance             Views   2016-05-06   \n",
              "2  3hB5DgAiMAQ4DzYbsMq1IT  Love Yourself  Purpose (Deluxe)   2015-11-13   \n",
              "3  7BKLCZ1jbUBVqRi2FVlTVw         Closer            Closer   2016-07-29   \n",
              "4  1MDoll6jK4rrk2BcFRP5i7          Hello             Hello   2015-10-23   \n",
              "\n",
              "   Popularity  Acousticness  Danceability  Energy  Instrumentalness  Key  \\\n",
              "0           0       0.16500         0.681   0.594          0.000003    7   \n",
              "1          83       0.00776         0.792   0.625          0.001800    1   \n",
              "2           0       0.83500         0.609   0.378          0.000000    4   \n",
              "3          83       0.41400         0.748   0.524          0.000000    8   \n",
              "4           1       0.32900         0.471   0.431          0.000000    5   \n",
              "\n",
              "   Liveness  Loudness  Mode  Speechiness    Tempo  Time Signature  Valence  \\\n",
              "0    0.1340    -7.028     1       0.2820  186.054               4    0.535   \n",
              "1    0.3290    -5.609     1       0.0536  103.967               4    0.370   \n",
              "2    0.2800    -9.828     1       0.4380  100.418               4    0.515   \n",
              "3    0.1110    -5.599     1       0.0338   95.010               4    0.661   \n",
              "4    0.0854    -6.129     0       0.0342  157.980               4    0.289   \n",
              "\n",
              "   Duration (m)  \n",
              "0      3.840883  \n",
              "1      2.899783  \n",
              "2      3.895333  \n",
              "3      4.082667  \n",
              "4      4.925033  "
            ],
            "text/html": [
              "\n",
              "  <div id=\"df-5c0b7213-2165-44b1-b85f-0622a1bd51a8\">\n",
              "    <div class=\"colab-df-container\">\n",
              "      <div>\n",
              "<style scoped>\n",
              "    .dataframe tbody tr th:only-of-type {\n",
              "        vertical-align: middle;\n",
              "    }\n",
              "\n",
              "    .dataframe tbody tr th {\n",
              "        vertical-align: top;\n",
              "    }\n",
              "\n",
              "    .dataframe thead th {\n",
              "        text-align: right;\n",
              "    }\n",
              "</style>\n",
              "<table border=\"1\" class=\"dataframe\">\n",
              "  <thead>\n",
              "    <tr style=\"text-align: right;\">\n",
              "      <th></th>\n",
              "      <th>Track ID</th>\n",
              "      <th>Name</th>\n",
              "      <th>Album</th>\n",
              "      <th>Release Date</th>\n",
              "      <th>Popularity</th>\n",
              "      <th>Acousticness</th>\n",
              "      <th>Danceability</th>\n",
              "      <th>Energy</th>\n",
              "      <th>Instrumentalness</th>\n",
              "      <th>Key</th>\n",
              "      <th>Liveness</th>\n",
              "      <th>Loudness</th>\n",
              "      <th>Mode</th>\n",
              "      <th>Speechiness</th>\n",
              "      <th>Tempo</th>\n",
              "      <th>Time Signature</th>\n",
              "      <th>Valence</th>\n",
              "      <th>Duration (m)</th>\n",
              "    </tr>\n",
              "  </thead>\n",
              "  <tbody>\n",
              "    <tr>\n",
              "      <th>0</th>\n",
              "      <td>5aAx2yezTd8zXrkmtKl66Z</td>\n",
              "      <td>Starboy</td>\n",
              "      <td>Starboy</td>\n",
              "      <td>2016-11-25</td>\n",
              "      <td>0</td>\n",
              "      <td>0.16500</td>\n",
              "      <td>0.681</td>\n",
              "      <td>0.594</td>\n",
              "      <td>0.000003</td>\n",
              "      <td>7</td>\n",
              "      <td>0.1340</td>\n",
              "      <td>-7.028</td>\n",
              "      <td>1</td>\n",
              "      <td>0.2820</td>\n",
              "      <td>186.054</td>\n",
              "      <td>4</td>\n",
              "      <td>0.535</td>\n",
              "      <td>3.840883</td>\n",
              "    </tr>\n",
              "    <tr>\n",
              "      <th>1</th>\n",
              "      <td>1zi7xx7UVEFkmKfv06H8x0</td>\n",
              "      <td>One Dance</td>\n",
              "      <td>Views</td>\n",
              "      <td>2016-05-06</td>\n",
              "      <td>83</td>\n",
              "      <td>0.00776</td>\n",
              "      <td>0.792</td>\n",
              "      <td>0.625</td>\n",
              "      <td>0.001800</td>\n",
              "      <td>1</td>\n",
              "      <td>0.3290</td>\n",
              "      <td>-5.609</td>\n",
              "      <td>1</td>\n",
              "      <td>0.0536</td>\n",
              "      <td>103.967</td>\n",
              "      <td>4</td>\n",
              "      <td>0.370</td>\n",
              "      <td>2.899783</td>\n",
              "    </tr>\n",
              "    <tr>\n",
              "      <th>2</th>\n",
              "      <td>3hB5DgAiMAQ4DzYbsMq1IT</td>\n",
              "      <td>Love Yourself</td>\n",
              "      <td>Purpose (Deluxe)</td>\n",
              "      <td>2015-11-13</td>\n",
              "      <td>0</td>\n",
              "      <td>0.83500</td>\n",
              "      <td>0.609</td>\n",
              "      <td>0.378</td>\n",
              "      <td>0.000000</td>\n",
              "      <td>4</td>\n",
              "      <td>0.2800</td>\n",
              "      <td>-9.828</td>\n",
              "      <td>1</td>\n",
              "      <td>0.4380</td>\n",
              "      <td>100.418</td>\n",
              "      <td>4</td>\n",
              "      <td>0.515</td>\n",
              "      <td>3.895333</td>\n",
              "    </tr>\n",
              "    <tr>\n",
              "      <th>3</th>\n",
              "      <td>7BKLCZ1jbUBVqRi2FVlTVw</td>\n",
              "      <td>Closer</td>\n",
              "      <td>Closer</td>\n",
              "      <td>2016-07-29</td>\n",
              "      <td>83</td>\n",
              "      <td>0.41400</td>\n",
              "      <td>0.748</td>\n",
              "      <td>0.524</td>\n",
              "      <td>0.000000</td>\n",
              "      <td>8</td>\n",
              "      <td>0.1110</td>\n",
              "      <td>-5.599</td>\n",
              "      <td>1</td>\n",
              "      <td>0.0338</td>\n",
              "      <td>95.010</td>\n",
              "      <td>4</td>\n",
              "      <td>0.661</td>\n",
              "      <td>4.082667</td>\n",
              "    </tr>\n",
              "    <tr>\n",
              "      <th>4</th>\n",
              "      <td>1MDoll6jK4rrk2BcFRP5i7</td>\n",
              "      <td>Hello</td>\n",
              "      <td>Hello</td>\n",
              "      <td>2015-10-23</td>\n",
              "      <td>1</td>\n",
              "      <td>0.32900</td>\n",
              "      <td>0.471</td>\n",
              "      <td>0.431</td>\n",
              "      <td>0.000000</td>\n",
              "      <td>5</td>\n",
              "      <td>0.0854</td>\n",
              "      <td>-6.129</td>\n",
              "      <td>0</td>\n",
              "      <td>0.0342</td>\n",
              "      <td>157.980</td>\n",
              "      <td>4</td>\n",
              "      <td>0.289</td>\n",
              "      <td>4.925033</td>\n",
              "    </tr>\n",
              "  </tbody>\n",
              "</table>\n",
              "</div>\n",
              "      <button class=\"colab-df-convert\" onclick=\"convertToInteractive('df-5c0b7213-2165-44b1-b85f-0622a1bd51a8')\"\n",
              "              title=\"Convert this dataframe to an interactive table.\"\n",
              "              style=\"display:none;\">\n",
              "        \n",
              "  <svg xmlns=\"http://www.w3.org/2000/svg\" height=\"24px\"viewBox=\"0 0 24 24\"\n",
              "       width=\"24px\">\n",
              "    <path d=\"M0 0h24v24H0V0z\" fill=\"none\"/>\n",
              "    <path d=\"M18.56 5.44l.94 2.06.94-2.06 2.06-.94-2.06-.94-.94-2.06-.94 2.06-2.06.94zm-11 1L8.5 8.5l.94-2.06 2.06-.94-2.06-.94L8.5 2.5l-.94 2.06-2.06.94zm10 10l.94 2.06.94-2.06 2.06-.94-2.06-.94-.94-2.06-.94 2.06-2.06.94z\"/><path d=\"M17.41 7.96l-1.37-1.37c-.4-.4-.92-.59-1.43-.59-.52 0-1.04.2-1.43.59L10.3 9.45l-7.72 7.72c-.78.78-.78 2.05 0 2.83L4 21.41c.39.39.9.59 1.41.59.51 0 1.02-.2 1.41-.59l7.78-7.78 2.81-2.81c.8-.78.8-2.07 0-2.86zM5.41 20L4 18.59l7.72-7.72 1.47 1.35L5.41 20z\"/>\n",
              "  </svg>\n",
              "      </button>\n",
              "      \n",
              "  <style>\n",
              "    .colab-df-container {\n",
              "      display:flex;\n",
              "      flex-wrap:wrap;\n",
              "      gap: 12px;\n",
              "    }\n",
              "\n",
              "    .colab-df-convert {\n",
              "      background-color: #E8F0FE;\n",
              "      border: none;\n",
              "      border-radius: 50%;\n",
              "      cursor: pointer;\n",
              "      display: none;\n",
              "      fill: #1967D2;\n",
              "      height: 32px;\n",
              "      padding: 0 0 0 0;\n",
              "      width: 32px;\n",
              "    }\n",
              "\n",
              "    .colab-df-convert:hover {\n",
              "      background-color: #E2EBFA;\n",
              "      box-shadow: 0px 1px 2px rgba(60, 64, 67, 0.3), 0px 1px 3px 1px rgba(60, 64, 67, 0.15);\n",
              "      fill: #174EA6;\n",
              "    }\n",
              "\n",
              "    [theme=dark] .colab-df-convert {\n",
              "      background-color: #3B4455;\n",
              "      fill: #D2E3FC;\n",
              "    }\n",
              "\n",
              "    [theme=dark] .colab-df-convert:hover {\n",
              "      background-color: #434B5C;\n",
              "      box-shadow: 0px 1px 3px 1px rgba(0, 0, 0, 0.15);\n",
              "      filter: drop-shadow(0px 1px 2px rgba(0, 0, 0, 0.3));\n",
              "      fill: #FFFFFF;\n",
              "    }\n",
              "  </style>\n",
              "\n",
              "      <script>\n",
              "        const buttonEl =\n",
              "          document.querySelector('#df-5c0b7213-2165-44b1-b85f-0622a1bd51a8 button.colab-df-convert');\n",
              "        buttonEl.style.display =\n",
              "          google.colab.kernel.accessAllowed ? 'block' : 'none';\n",
              "\n",
              "        async function convertToInteractive(key) {\n",
              "          const element = document.querySelector('#df-5c0b7213-2165-44b1-b85f-0622a1bd51a8');\n",
              "          const dataTable =\n",
              "            await google.colab.kernel.invokeFunction('convertToInteractive',\n",
              "                                                     [key], {});\n",
              "          if (!dataTable) return;\n",
              "\n",
              "          const docLinkHtml = 'Like what you see? Visit the ' +\n",
              "            '<a target=\"_blank\" href=https://colab.research.google.com/notebooks/data_table.ipynb>data table notebook</a>'\n",
              "            + ' to learn more about interactive tables.';\n",
              "          element.innerHTML = '';\n",
              "          dataTable['output_type'] = 'display_data';\n",
              "          await google.colab.output.renderOutput(dataTable, element);\n",
              "          const docLink = document.createElement('div');\n",
              "          docLink.innerHTML = docLinkHtml;\n",
              "          element.appendChild(docLink);\n",
              "        }\n",
              "      </script>\n",
              "    </div>\n",
              "  </div>\n",
              "  "
            ]
          },
          "metadata": {},
          "execution_count": 14
        }
      ]
    },
    {
      "cell_type": "code",
      "source": [
        "data.info()"
      ],
      "metadata": {
        "colab": {
          "base_uri": "https://localhost:8080/"
        },
        "id": "xZBgFota4gu7",
        "outputId": "718d6a66-3942-46d4-bbb8-cf4cc0c7b45e"
      },
      "execution_count": null,
      "outputs": [
        {
          "output_type": "stream",
          "name": "stdout",
          "text": [
            "<class 'pandas.core.frame.DataFrame'>\n",
            "RangeIndex: 15296 entries, 0 to 15295\n",
            "Data columns (total 18 columns):\n",
            " #   Column            Non-Null Count  Dtype  \n",
            "---  ------            --------------  -----  \n",
            " 0   Track ID          15296 non-null  object \n",
            " 1   Name              15296 non-null  object \n",
            " 2   Album             15296 non-null  object \n",
            " 3   Release Date      15296 non-null  object \n",
            " 4   Popularity        15296 non-null  int64  \n",
            " 5   Acousticness      15296 non-null  float64\n",
            " 6   Danceability      15296 non-null  float64\n",
            " 7   Energy            15296 non-null  float64\n",
            " 8   Instrumentalness  15296 non-null  float64\n",
            " 9   Key               15296 non-null  int64  \n",
            " 10  Liveness          15296 non-null  float64\n",
            " 11  Loudness          15296 non-null  float64\n",
            " 12  Mode              15296 non-null  int64  \n",
            " 13  Speechiness       15296 non-null  float64\n",
            " 14  Tempo             15296 non-null  float64\n",
            " 15  Time Signature    15296 non-null  int64  \n",
            " 16  Valence           15296 non-null  float64\n",
            " 17  Duration (m)      15296 non-null  float64\n",
            "dtypes: float64(10), int64(4), object(4)\n",
            "memory usage: 2.1+ MB\n"
          ]
        }
      ]
    },
    {
      "cell_type": "code",
      "source": [
        "import matplotlib.pyplot as plt\n",
        "import seaborn as sns\n",
        "plt.figure(figsize=(20, 10))\n",
        "sns.heatmap(data.corr(),annot = True)"
      ],
      "metadata": {
        "colab": {
          "base_uri": "https://localhost:8080/",
          "height": 474
        },
        "id": "k-HKmKXX04bw",
        "outputId": "17863eaf-17db-4568-b06f-4f8a3e17c1d2"
      },
      "execution_count": null,
      "outputs": [
        {
          "output_type": "execute_result",
          "data": {
            "text/plain": [
              "<matplotlib.axes._subplots.AxesSubplot at 0x7f2536f21f50>"
            ]
          },
          "metadata": {},
          "execution_count": 16
        },
        {
          "output_type": "display_data",
          "data": {
            "text/plain": [
              "<Figure size 1440x720 with 2 Axes>"
            ],
            "image/png": "[encoded data removed]"
          },
          "metadata": {
            "needs_background": "light"
          }
        }
      ]
    },
    {
      "cell_type": "markdown",
      "source": [
        "Looking at this, I'm interested in loudness, energy, dancability, acoustiness, and instrumentalness the most. "
      ],
      "metadata": {
        "id": "3r30_I8F6MLn"
      }
    },
    {
      "cell_type": "code",
      "source": [
        "data.hist(figsize= [15, 15])"
      ],
      "metadata": {
        "colab": {
          "base_uri": "https://localhost:8080/",
          "height": 1000
        },
        "id": "R-chz8c74CA-",
        "outputId": "d1edf5c9-aae9-460f-d3eb-0dd051615101"
      },
      "execution_count": null,
      "outputs": [
        {
          "output_type": "execute_result",
          "data": {
            "text/plain": [
              "array([[<matplotlib.axes._subplots.AxesSubplot object at 0x7f2533f768d0>,\n",
              "        <matplotlib.axes._subplots.AxesSubplot object at 0x7f2532716f50>,\n",
              "        <matplotlib.axes._subplots.AxesSubplot object at 0x7f25326d9590>,\n",
              "        <matplotlib.axes._subplots.AxesSubplot object at 0x7f2532690b90>],\n",
              "       [<matplotlib.axes._subplots.AxesSubplot object at 0x7f25326531d0>,\n",
              "        <matplotlib.axes._subplots.AxesSubplot object at 0x7f25326097d0>,\n",
              "        <matplotlib.axes._subplots.AxesSubplot object at 0x7f25325c1e50>,\n",
              "        <matplotlib.axes._subplots.AxesSubplot object at 0x7f25325853d0>],\n",
              "       [<matplotlib.axes._subplots.AxesSubplot object at 0x7f2532585410>,\n",
              "        <matplotlib.axes._subplots.AxesSubplot object at 0x7f253253bb10>,\n",
              "        <matplotlib.axes._subplots.AxesSubplot object at 0x7f25324b5650>,\n",
              "        <matplotlib.axes._subplots.AxesSubplot object at 0x7f25324ebc50>],\n",
              "       [<matplotlib.axes._subplots.AxesSubplot object at 0x7f25324b2290>,\n",
              "        <matplotlib.axes._subplots.AxesSubplot object at 0x7f2532468890>,\n",
              "        <matplotlib.axes._subplots.AxesSubplot object at 0x7f253241fe90>,\n",
              "        <matplotlib.axes._subplots.AxesSubplot object at 0x7f25323e24d0>]],\n",
              "      dtype=object)"
            ]
          },
          "metadata": {},
          "execution_count": 17
        },
        {
          "output_type": "display_data",
          "data": {
            "text/plain": [
              "<Figure size 1080x1080 with 16 Axes>"
            ],
            "image/png": "[encoded data removed]"
          },
          "metadata": {
            "needs_background": "light"
          }
        }
      ]
    },
    {
      "cell_type": "markdown",
      "source": [
        "From this, I'm interested in Valence as well"
      ],
      "metadata": {
        "id": "Y26pyeKqyXe1"
      }
    },
    {
      "cell_type": "code",
      "source": [
        "plt.figure(figsize=(20,20))\n",
        "sns.distplot(data['Popularity'])\n",
        "plt.title('Popularity Distribution')\n",
        "plt.show()"
      ],
      "metadata": {
        "colab": {
          "base_uri": "https://localhost:8080/",
          "height": 801
        },
        "id": "hT3Hb-Fo3ZZP",
        "outputId": "a4b06b25-0ad5-4e3d-ac35-2a34993b12c3"
      },
      "execution_count": null,
      "outputs": [
        {
          "output_type": "stream",
          "name": "stderr",
          "text": [
            "/usr/local/lib/python3.7/dist-packages/seaborn/distributions.py:2619: FutureWarning: `distplot` is a deprecated function and will be removed in a future version. Please adapt your code to use either `displot` (a figure-level function with similar flexibility) or `histplot` (an axes-level function for histograms).\n",
            "  warnings.warn(msg, FutureWarning)\n"
          ]
        },
        {
          "output_type": "display_data",
          "data": {
            "text/plain": [
              "<Figure size 1440x1440 with 1 Axes>"
            ],
            "image/png": "[encoded data removed]"
          },
          "metadata": {
            "needs_background": "light"
          }
        }
      ]
    },
    {
      "cell_type": "code",
      "source": [
        "data.describe()"
      ],
      "metadata": {
        "colab": {
          "base_uri": "https://localhost:8080/",
          "height": 381
        },
        "id": "t9GVtCvp7jRm",
        "outputId": "c03db2a7-73f2-4109-d086-615476b2ee11"
      },
      "execution_count": null,
      "outputs": [
        {
          "output_type": "execute_result",
          "data": {
            "text/plain": [
              "         Popularity  Acousticness  Danceability        Energy  \\\n",
              "count  15296.000000  15296.000000  15296.000000  15296.000000   \n",
              "mean      40.888468      0.303899      0.579052      0.611943   \n",
              "std       23.851419      0.317006      0.164773      0.233909   \n",
              "min        0.000000      0.000001      0.000000      0.000591   \n",
              "25%       23.000000      0.027900      0.466000      0.452000   \n",
              "50%       44.000000      0.171000      0.589000      0.641000   \n",
              "75%       60.000000      0.551000      0.700000      0.802000   \n",
              "max      100.000000      0.996000      0.988000      1.000000   \n",
              "\n",
              "       Instrumentalness           Key      Liveness      Loudness  \\\n",
              "count      15296.000000  15296.000000  15296.000000  15296.000000   \n",
              "mean           0.084309      5.270790      0.196953     -8.622349   \n",
              "std            0.220479      3.556065      0.168880      4.161826   \n",
              "min            0.000000      0.000000      0.009670    -42.448000   \n",
              "25%            0.000000      2.000000      0.093700    -10.853000   \n",
              "50%            0.000042      5.000000      0.128000     -7.821500   \n",
              "75%            0.007208      8.000000      0.252000     -5.603000   \n",
              "max            0.993000     11.000000      0.996000      1.342000   \n",
              "\n",
              "               Mode   Speechiness         Tempo  Time Signature       Valence  \\\n",
              "count  15296.000000  15296.000000  15296.000000    15296.000000  15296.000000   \n",
              "mean       0.683774      0.076903    120.214437        3.925798      0.538270   \n",
              "std        0.465018      0.081573     28.207538        0.350107      0.252443   \n",
              "min        0.000000      0.000000      0.000000        0.000000      0.000000   \n",
              "25%        0.000000      0.034000     99.163000        4.000000      0.335000   \n",
              "50%        1.000000      0.045300    119.576000        4.000000      0.543000   \n",
              "75%        1.000000      0.078700    136.906250        4.000000      0.750000   \n",
              "max        1.000000      0.934000    220.113000        5.000000      0.995000   \n",
              "\n",
              "       Duration (m)  \n",
              "count  15296.000000  \n",
              "mean       3.812053  \n",
              "std        1.324366  \n",
              "min        0.638883  \n",
              "25%        3.025504  \n",
              "50%        3.604000  \n",
              "75%        4.283783  \n",
              "max       30.358883  "
            ],
            "text/html": [
              "\n",
              "  <div id=\"df-6e7d0f15-1530-4ba5-a941-dfbd8951ce52\">\n",
              "    <div class=\"colab-df-container\">\n",
              "      <div>\n",
              "<style scoped>\n",
              "    .dataframe tbody tr th:only-of-type {\n",
              "        vertical-align: middle;\n",
              "    }\n",
              "\n",
              "    .dataframe tbody tr th {\n",
              "        vertical-align: top;\n",
              "    }\n",
              "\n",
              "    .dataframe thead th {\n",
              "        text-align: right;\n",
              "    }\n",
              "</style>\n",
              "<table border=\"1\" class=\"dataframe\">\n",
              "  <thead>\n",
              "    <tr style=\"text-align: right;\">\n",
              "      <th></th>\n",
              "      <th>Popularity</th>\n",
              "      <th>Acousticness</th>\n",
              "      <th>Danceability</th>\n",
              "      <th>Energy</th>\n",
              "      <th>Instrumentalness</th>\n",
              "      <th>Key</th>\n",
              "      <th>Liveness</th>\n",
              "      <th>Loudness</th>\n",
              "      <th>Mode</th>\n",
              "      <th>Speechiness</th>\n",
              "      <th>Tempo</th>\n",
              "      <th>Time Signature</th>\n",
              "      <th>Valence</th>\n",
              "      <th>Duration (m)</th>\n",
              "    </tr>\n",
              "  </thead>\n",
              "  <tbody>\n",
              "    <tr>\n",
              "      <th>count</th>\n",
              "      <td>15296.000000</td>\n",
              "      <td>15296.000000</td>\n",
              "      <td>15296.000000</td>\n",
              "      <td>15296.000000</td>\n",
              "      <td>15296.000000</td>\n",
              "      <td>15296.000000</td>\n",
              "      <td>15296.000000</td>\n",
              "      <td>15296.000000</td>\n",
              "      <td>15296.000000</td>\n",
              "      <td>15296.000000</td>\n",
              "      <td>15296.000000</td>\n",
              "      <td>15296.000000</td>\n",
              "      <td>15296.000000</td>\n",
              "      <td>15296.000000</td>\n",
              "    </tr>\n",
              "    <tr>\n",
              "      <th>mean</th>\n",
              "      <td>40.888468</td>\n",
              "      <td>0.303899</td>\n",
              "      <td>0.579052</td>\n",
              "      <td>0.611943</td>\n",
              "      <td>0.084309</td>\n",
              "      <td>5.270790</td>\n",
              "      <td>0.196953</td>\n",
              "      <td>-8.622349</td>\n",
              "      <td>0.683774</td>\n",
              "      <td>0.076903</td>\n",
              "      <td>120.214437</td>\n",
              "      <td>3.925798</td>\n",
              "      <td>0.538270</td>\n",
              "      <td>3.812053</td>\n",
              "    </tr>\n",
              "    <tr>\n",
              "      <th>std</th>\n",
              "      <td>23.851419</td>\n",
              "      <td>0.317006</td>\n",
              "      <td>0.164773</td>\n",
              "      <td>0.233909</td>\n",
              "      <td>0.220479</td>\n",
              "      <td>3.556065</td>\n",
              "      <td>0.168880</td>\n",
              "      <td>4.161826</td>\n",
              "      <td>0.465018</td>\n",
              "      <td>0.081573</td>\n",
              "      <td>28.207538</td>\n",
              "      <td>0.350107</td>\n",
              "      <td>0.252443</td>\n",
              "      <td>1.324366</td>\n",
              "    </tr>\n",
              "    <tr>\n",
              "      <th>min</th>\n",
              "      <td>0.000000</td>\n",
              "      <td>0.000001</td>\n",
              "      <td>0.000000</td>\n",
              "      <td>0.000591</td>\n",
              "      <td>0.000000</td>\n",
              "      <td>0.000000</td>\n",
              "      <td>0.009670</td>\n",
              "      <td>-42.448000</td>\n",
              "      <td>0.000000</td>\n",
              "      <td>0.000000</td>\n",
              "      <td>0.000000</td>\n",
              "      <td>0.000000</td>\n",
              "      <td>0.000000</td>\n",
              "      <td>0.638883</td>\n",
              "    </tr>\n",
              "    <tr>\n",
              "      <th>25%</th>\n",
              "      <td>23.000000</td>\n",
              "      <td>0.027900</td>\n",
              "      <td>0.466000</td>\n",
              "      <td>0.452000</td>\n",
              "      <td>0.000000</td>\n",
              "      <td>2.000000</td>\n",
              "      <td>0.093700</td>\n",
              "      <td>-10.853000</td>\n",
              "      <td>0.000000</td>\n",
              "      <td>0.034000</td>\n",
              "      <td>99.163000</td>\n",
              "      <td>4.000000</td>\n",
              "      <td>0.335000</td>\n",
              "      <td>3.025504</td>\n",
              "    </tr>\n",
              "    <tr>\n",
              "      <th>50%</th>\n",
              "      <td>44.000000</td>\n",
              "      <td>0.171000</td>\n",
              "      <td>0.589000</td>\n",
              "      <td>0.641000</td>\n",
              "      <td>0.000042</td>\n",
              "      <td>5.000000</td>\n",
              "      <td>0.128000</td>\n",
              "      <td>-7.821500</td>\n",
              "      <td>1.000000</td>\n",
              "      <td>0.045300</td>\n",
              "      <td>119.576000</td>\n",
              "      <td>4.000000</td>\n",
              "      <td>0.543000</td>\n",
              "      <td>3.604000</td>\n",
              "    </tr>\n",
              "    <tr>\n",
              "      <th>75%</th>\n",
              "      <td>60.000000</td>\n",
              "      <td>0.551000</td>\n",
              "      <td>0.700000</td>\n",
              "      <td>0.802000</td>\n",
              "      <td>0.007208</td>\n",
              "      <td>8.000000</td>\n",
              "      <td>0.252000</td>\n",
              "      <td>-5.603000</td>\n",
              "      <td>1.000000</td>\n",
              "      <td>0.078700</td>\n",
              "      <td>136.906250</td>\n",
              "      <td>4.000000</td>\n",
              "      <td>0.750000</td>\n",
              "      <td>4.283783</td>\n",
              "    </tr>\n",
              "    <tr>\n",
              "      <th>max</th>\n",
              "      <td>100.000000</td>\n",
              "      <td>0.996000</td>\n",
              "      <td>0.988000</td>\n",
              "      <td>1.000000</td>\n",
              "      <td>0.993000</td>\n",
              "      <td>11.000000</td>\n",
              "      <td>0.996000</td>\n",
              "      <td>1.342000</td>\n",
              "      <td>1.000000</td>\n",
              "      <td>0.934000</td>\n",
              "      <td>220.113000</td>\n",
              "      <td>5.000000</td>\n",
              "      <td>0.995000</td>\n",
              "      <td>30.358883</td>\n",
              "    </tr>\n",
              "  </tbody>\n",
              "</table>\n",
              "</div>\n",
              "      <button class=\"colab-df-convert\" onclick=\"convertToInteractive('df-6e7d0f15-1530-4ba5-a941-dfbd8951ce52')\"\n",
              "              title=\"Convert this dataframe to an interactive table.\"\n",
              "              style=\"display:none;\">\n",
              "        \n",
              "  <svg xmlns=\"http://www.w3.org/2000/svg\" height=\"24px\"viewBox=\"0 0 24 24\"\n",
              "       width=\"24px\">\n",
              "    <path d=\"M0 0h24v24H0V0z\" fill=\"none\"/>\n",
              "    <path d=\"M18.56 5.44l.94 2.06.94-2.06 2.06-.94-2.06-.94-.94-2.06-.94 2.06-2.06.94zm-11 1L8.5 8.5l.94-2.06 2.06-.94-2.06-.94L8.5 2.5l-.94 2.06-2.06.94zm10 10l.94 2.06.94-2.06 2.06-.94-2.06-.94-.94-2.06-.94 2.06-2.06.94z\"/><path d=\"M17.41 7.96l-1.37-1.37c-.4-.4-.92-.59-1.43-.59-.52 0-1.04.2-1.43.59L10.3 9.45l-7.72 7.72c-.78.78-.78 2.05 0 2.83L4 21.41c.39.39.9.59 1.41.59.51 0 1.02-.2 1.41-.59l7.78-7.78 2.81-2.81c.8-.78.8-2.07 0-2.86zM5.41 20L4 18.59l7.72-7.72 1.47 1.35L5.41 20z\"/>\n",
              "  </svg>\n",
              "      </button>\n",
              "      \n",
              "  <style>\n",
              "    .colab-df-container {\n",
              "      display:flex;\n",
              "      flex-wrap:wrap;\n",
              "      gap: 12px;\n",
              "    }\n",
              "\n",
              "    .colab-df-convert {\n",
              "      background-color: #E8F0FE;\n",
              "      border: none;\n",
              "      border-radius: 50%;\n",
              "      cursor: pointer;\n",
              "      display: none;\n",
              "      fill: #1967D2;\n",
              "      height: 32px;\n",
              "      padding: 0 0 0 0;\n",
              "      width: 32px;\n",
              "    }\n",
              "\n",
              "    .colab-df-convert:hover {\n",
              "      background-color: #E2EBFA;\n",
              "      box-shadow: 0px 1px 2px rgba(60, 64, 67, 0.3), 0px 1px 3px 1px rgba(60, 64, 67, 0.15);\n",
              "      fill: #174EA6;\n",
              "    }\n",
              "\n",
              "    [theme=dark] .colab-df-convert {\n",
              "      background-color: #3B4455;\n",
              "      fill: #D2E3FC;\n",
              "    }\n",
              "\n",
              "    [theme=dark] .colab-df-convert:hover {\n",
              "      background-color: #434B5C;\n",
              "      box-shadow: 0px 1px 3px 1px rgba(0, 0, 0, 0.15);\n",
              "      filter: drop-shadow(0px 1px 2px rgba(0, 0, 0, 0.3));\n",
              "      fill: #FFFFFF;\n",
              "    }\n",
              "  </style>\n",
              "\n",
              "      <script>\n",
              "        const buttonEl =\n",
              "          document.querySelector('#df-6e7d0f15-1530-4ba5-a941-dfbd8951ce52 button.colab-df-convert');\n",
              "        buttonEl.style.display =\n",
              "          google.colab.kernel.accessAllowed ? 'block' : 'none';\n",
              "\n",
              "        async function convertToInteractive(key) {\n",
              "          const element = document.querySelector('#df-6e7d0f15-1530-4ba5-a941-dfbd8951ce52');\n",
              "          const dataTable =\n",
              "            await google.colab.kernel.invokeFunction('convertToInteractive',\n",
              "                                                     [key], {});\n",
              "          if (!dataTable) return;\n",
              "\n",
              "          const docLinkHtml = 'Like what you see? Visit the ' +\n",
              "            '<a target=\"_blank\" href=https://colab.research.google.com/notebooks/data_table.ipynb>data table notebook</a>'\n",
              "            + ' to learn more about interactive tables.';\n",
              "          element.innerHTML = '';\n",
              "          dataTable['output_type'] = 'display_data';\n",
              "          await google.colab.output.renderOutput(dataTable, element);\n",
              "          const docLink = document.createElement('div');\n",
              "          docLink.innerHTML = docLinkHtml;\n",
              "          element.appendChild(docLink);\n",
              "        }\n",
              "      </script>\n",
              "    </div>\n",
              "  </div>\n",
              "  "
            ]
          },
          "metadata": {},
          "execution_count": 19
        }
      ]
    },
    {
      "cell_type": "markdown",
      "source": [
        "# LINEAR REGRESSION"
      ],
      "metadata": {
        "id": "uYVu4UjDRQqg"
      }
    },
    {
      "cell_type": "code",
      "source": [
        "X = data.drop(columns=['Track ID', 'Name', 'Album', 'Release Date', 'Popularity'])\n",
        "y = data['Popularity']"
      ],
      "metadata": {
        "id": "szwYbNAt7O7T"
      },
      "execution_count": null,
      "outputs": []
    },
    {
      "cell_type": "code",
      "source": [
        "from sklearn.model_selection import train_test_split\n",
        "X_train, X_test, y_train, y_test = train_test_split(X, y, test_size=0.20)"
      ],
      "metadata": {
        "id": "sTGhwbIAAN4R"
      },
      "execution_count": null,
      "outputs": []
    },
    {
      "cell_type": "code",
      "source": [
        "print(f'X_Train: {X_train.shape}')\n",
        "print(f'y_Train: {y_train.shape}')\n",
        "print(f'X_Test: {X_test.shape}')\n",
        "print(f'y_Test: {y_test.shape}')"
      ],
      "metadata": {
        "colab": {
          "base_uri": "https://localhost:8080/"
        },
        "id": "CgIdTF2vAVxp",
        "outputId": "c5dc4c17-8c32-47b5-c817-69b1575c9cd9"
      },
      "execution_count": null,
      "outputs": [
        {
          "output_type": "stream",
          "name": "stdout",
          "text": [
            "X_Train: (12236, 13)\n",
            "y_Train: (12236,)\n",
            "X_Test: (3060, 13)\n",
            "y_Test: (3060,)\n"
          ]
        }
      ]
    },
    {
      "cell_type": "code",
      "source": [
        "from sklearn.linear_model import LinearRegression\n",
        "lin_reg = LinearRegression()\n",
        "lin_reg.fit(X_train,y_train)\n",
        "y_pred=lin_reg.predict(X_test)"
      ],
      "metadata": {
        "id": "vQ5Rphx47Ruh"
      },
      "execution_count": null,
      "outputs": []
    },
    {
      "cell_type": "code",
      "source": [
        "from sklearn import metrics\n",
        "from sklearn.metrics import roc_auc_score\n",
        "import numpy as np\n",
        "\n",
        "print('MSE:', metrics.mean_squared_error(y_test, y_pred))\n",
        "print('RMSE:', np.sqrt(metrics.mean_squared_error(y_test, y_pred)))\n",
        "print(f'Training data Accuracy: {round(lin_reg.score(X_train, y_train)* 100,2)}%')\n",
        "print(f'Testing data Accuracy: {round(lin_reg.score(X_test, y_test)* 100,2)}%')"
      ],
      "metadata": {
        "colab": {
          "base_uri": "https://localhost:8080/"
        },
        "id": "JoJIVbLj-kKH",
        "outputId": "4ca13468-ca17-4f80-c03e-9dda1b53f577"
      },
      "execution_count": null,
      "outputs": [
        {
          "output_type": "stream",
          "name": "stdout",
          "text": [
            "MSE: 510.80133819021535\n",
            "RMSE: 22.60091454322624\n",
            "Training data Accuracy: 9.72%\n",
            "Testing data Accuracy: 8.88%\n"
          ]
        }
      ]
    },
    {
      "cell_type": "markdown",
      "source": [
        "Only using the features that are the most impactful:"
      ],
      "metadata": {
        "id": "ULBoEnkmBrSV"
      }
    },
    {
      "cell_type": "code",
      "source": [
        "X_new = data[['Loudness', 'Energy', 'Danceability', 'Valence', 'Speechiness', 'Instrumentalness']]\n",
        "y = data['Popularity']"
      ],
      "metadata": {
        "id": "-0vKdYEpB0ln"
      },
      "execution_count": null,
      "outputs": []
    },
    {
      "cell_type": "code",
      "source": [
        "from sklearn.model_selection import train_test_split\n",
        "X_train_new, X_test_new, y_train_new, y_test_new = train_test_split(X_new, y, test_size=0.20)"
      ],
      "metadata": {
        "id": "BbU_7eZbCeqd"
      },
      "execution_count": null,
      "outputs": []
    },
    {
      "cell_type": "code",
      "source": [
        "print(f'X_Train_new: {X_train_new.shape}')\n",
        "print(f'y_Train_new: {y_train_new.shape}')\n",
        "print(f'X_Test_new: {X_test_new.shape}')\n",
        "print(f'y_Test_new: {y_test_new.shape}')"
      ],
      "metadata": {
        "colab": {
          "base_uri": "https://localhost:8080/"
        },
        "id": "tx57lTBtCj-R",
        "outputId": "17be179b-ccb6-46e3-d372-74e1deb89cd5"
      },
      "execution_count": null,
      "outputs": [
        {
          "output_type": "stream",
          "name": "stdout",
          "text": [
            "X_Train_new: (12236, 6)\n",
            "y_Train_new: (12236,)\n",
            "X_Test_new: (3060, 6)\n",
            "y_Test_new: (3060,)\n"
          ]
        }
      ]
    },
    {
      "cell_type": "code",
      "source": [
        "from sklearn.linear_model import LinearRegression\n",
        "lin_reg = LinearRegression()\n",
        "lin_reg.fit(X_train_new,y_train_new)\n",
        "y_pred_new = lin_reg.predict(X_test_new)"
      ],
      "metadata": {
        "id": "6XuJlMVgCrRW"
      },
      "execution_count": null,
      "outputs": []
    },
    {
      "cell_type": "code",
      "source": [
        "from sklearn import metrics\n",
        "from sklearn.metrics import roc_auc_score\n",
        "import numpy as np\n",
        "\n",
        "print('MSE:', metrics.mean_squared_error(y_test_new, y_pred_new))\n",
        "print('RMSE:', np.sqrt(metrics.mean_squared_error(y_test_new, y_pred_new)))\n",
        "print(f'Training data Accuracy: {round(lin_reg.score(X_train_new, y_train_new)* 100,2)}%')\n",
        "print(f'Testing data Accuracy: {round(lin_reg.score(X_test_new, y_test_new)* 100,2)}%')"
      ],
      "metadata": {
        "colab": {
          "base_uri": "https://localhost:8080/"
        },
        "id": "G1wuv3jhCswg",
        "outputId": "45bf3fa0-4924-4763-90eb-f086573cd8bd"
      },
      "execution_count": null,
      "outputs": [
        {
          "output_type": "stream",
          "name": "stdout",
          "text": [
            "MSE: 521.0644715713443\n",
            "RMSE: 22.826836652750295\n",
            "Training data Accuracy: 8.15%\n",
            "Testing data Accuracy: 7.79%\n"
          ]
        }
      ]
    },
    {
      "cell_type": "markdown",
      "source": [
        "The main problem here, is that we have so many songs with a popularity index of '0' meaning the data is skewed. Now, I attempt to fix this:"
      ],
      "metadata": {
        "id": "2WV3nR9FK_CB"
      }
    },
    {
      "cell_type": "markdown",
      "source": [
        "Let's try just removing all the 0 values, as it's not so clear what exactly Spotify means by this"
      ],
      "metadata": {
        "id": "eM3VtjWKc8eJ"
      }
    },
    {
      "cell_type": "code",
      "source": [
        "df_original = data.copy()\n",
        "data_clean = df_original[df_original['Popularity'] > 0].copy()\n",
        "data_clean"
      ],
      "metadata": {
        "colab": {
          "base_uri": "https://localhost:8080/",
          "height": 800
        },
        "id": "bHPLVAnnjIdw",
        "outputId": "b591f73c-7983-4b38-c128-82a6c950dfb1"
      },
      "execution_count": null,
      "outputs": [
        {
          "output_type": "execute_result",
          "data": {
            "text/plain": [
              "                     Track ID                             Name  \\\n",
              "1      1zi7xx7UVEFkmKfv06H8x0                        One Dance   \n",
              "3      7BKLCZ1jbUBVqRi2FVlTVw                           Closer   \n",
              "4      1MDoll6jK4rrk2BcFRP5i7                            Hello   \n",
              "5      5YEOzOojehCqxGQCcQiyR4                            Panda   \n",
              "7      6b3b7lILUJqXcp6w9wNQSm  Cheap Thrills (feat. Sean Paul)   \n",
              "...                       ...                              ...   \n",
              "15290  1DOgkaR5Gqa8JtPEIbQORC                             Over   \n",
              "15291  2qmWh0uDidLJ8yAlPOtq0g            How Deep Is Your Love   \n",
              "15292  2QOB5UiRKggr2j9uMD3GYK                          FREEDOM   \n",
              "15293  2rf9i0Enr8cw1JRME8Rsvq                    Cardboard Box   \n",
              "15294  1mXDonQ1oXVimcd9i9wW4O                Make Up Your Mind   \n",
              "\n",
              "                                                   Album Release Date  \\\n",
              "1                                                  Views   2016-05-06   \n",
              "3                                                 Closer   2016-07-29   \n",
              "4                                                  Hello   2015-10-23   \n",
              "5                                            New English   2016-06-26   \n",
              "7                        Cheap Thrills (feat. Sean Paul)   2016-02-11   \n",
              "...                                                  ...          ...   \n",
              "15290                                               Over   2021-09-22   \n",
              "15291  Bridgerton Season Two (Covers from the Netflix...   2022-03-25   \n",
              "15292                                             WE ARE   2021-03-19   \n",
              "15293                                      Cardboard Box   2022-03-24   \n",
              "15294                                  Make Up Your Mind   2011-08-01   \n",
              "\n",
              "       Popularity  Acousticness  Danceability  Energy  Instrumentalness  Key  \\\n",
              "1              83       0.00776         0.792   0.625          0.001800    1   \n",
              "3              83       0.41400         0.748   0.524          0.000000    8   \n",
              "4               1       0.32900         0.471   0.431          0.000000    5   \n",
              "5              70       0.02800         0.576   0.766          0.000002   10   \n",
              "7              67       0.05610         0.592   0.800          0.000002    6   \n",
              "...           ...           ...           ...     ...               ...  ...   \n",
              "15290          78       0.48000         0.677   0.541          0.000000    6   \n",
              "15291          67       0.56500         0.225   0.224          0.002080    4   \n",
              "15292          66       0.02510         0.873   0.651          0.000107    1   \n",
              "15293          62       0.04000         0.579   0.714          0.000000    1   \n",
              "15294          34       0.10200         0.805   0.567          0.000101    6   \n",
              "\n",
              "       Liveness  Loudness  Mode  Speechiness    Tempo  Time Signature  \\\n",
              "1        0.3290    -5.609     1       0.0536  103.967               4   \n",
              "3        0.1110    -5.599     1       0.0338   95.010               4   \n",
              "4        0.0854    -6.129     0       0.0342  157.980               4   \n",
              "5        0.3660    -4.943     0       0.4490  144.833               4   \n",
              "7        0.0775    -4.931     0       0.2150   89.972               4   \n",
              "...         ...       ...   ...          ...      ...             ...   \n",
              "15290    0.1250    -6.057     0       0.0571  103.369               4   \n",
              "15291    0.0969   -16.583     0       0.0578   89.689               3   \n",
              "15292    0.2130    -4.179     1       0.0374  115.002               4   \n",
              "15293    0.3410    -4.308     1       0.0584   80.419               4   \n",
              "15294    0.0425    -9.463     0       0.0493   97.826               4   \n",
              "\n",
              "       Valence  Duration (m)  \n",
              "1        0.370      2.899783  \n",
              "3        0.661      4.082667  \n",
              "4        0.289      4.925033  \n",
              "5        0.236      4.112683  \n",
              "7        0.728      3.746883  \n",
              "...        ...           ...  \n",
              "15290    0.379      3.421267  \n",
              "15291    0.146      3.773900  \n",
              "15292    0.828      2.971500  \n",
              "15293    0.696      2.689433  \n",
              "15294    0.852      4.959100  \n",
              "\n",
              "[13889 rows x 18 columns]"
            ],
            "text/html": [
              "\n",
              "  <div id=\"df-74f0a5e9-3f2b-4c0b-bd54-925e5cda86d8\">\n",
              "    <div class=\"colab-df-container\">\n",
              "      <div>\n",
              "<style scoped>\n",
              "    .dataframe tbody tr th:only-of-type {\n",
              "        vertical-align: middle;\n",
              "    }\n",
              "\n",
              "    .dataframe tbody tr th {\n",
              "        vertical-align: top;\n",
              "    }\n",
              "\n",
              "    .dataframe thead th {\n",
              "        text-align: right;\n",
              "    }\n",
              "</style>\n",
              "<table border=\"1\" class=\"dataframe\">\n",
              "  <thead>\n",
              "    <tr style=\"text-align: right;\">\n",
              "      <th></th>\n",
              "      <th>Track ID</th>\n",
              "      <th>Name</th>\n",
              "      <th>Album</th>\n",
              "      <th>Release Date</th>\n",
              "      <th>Popularity</th>\n",
              "      <th>Acousticness</th>\n",
              "      <th>Danceability</th>\n",
              "      <th>Energy</th>\n",
              "      <th>Instrumentalness</th>\n",
              "      <th>Key</th>\n",
              "      <th>Liveness</th>\n",
              "      <th>Loudness</th>\n",
              "      <th>Mode</th>\n",
              "      <th>Speechiness</th>\n",
              "      <th>Tempo</th>\n",
              "      <th>Time Signature</th>\n",
              "      <th>Valence</th>\n",
              "      <th>Duration (m)</th>\n",
              "    </tr>\n",
              "  </thead>\n",
              "  <tbody>\n",
              "    <tr>\n",
              "      <th>1</th>\n",
              "      <td>1zi7xx7UVEFkmKfv06H8x0</td>\n",
              "      <td>One Dance</td>\n",
              "      <td>Views</td>\n",
              "      <td>2016-05-06</td>\n",
              "      <td>83</td>\n",
              "      <td>0.00776</td>\n",
              "      <td>0.792</td>\n",
              "      <td>0.625</td>\n",
              "      <td>0.001800</td>\n",
              "      <td>1</td>\n",
              "      <td>0.3290</td>\n",
              "      <td>-5.609</td>\n",
              "      <td>1</td>\n",
              "      <td>0.0536</td>\n",
              "      <td>103.967</td>\n",
              "      <td>4</td>\n",
              "      <td>0.370</td>\n",
              "      <td>2.899783</td>\n",
              "    </tr>\n",
              "    <tr>\n",
              "      <th>3</th>\n",
              "      <td>7BKLCZ1jbUBVqRi2FVlTVw</td>\n",
              "      <td>Closer</td>\n",
              "      <td>Closer</td>\n",
              "      <td>2016-07-29</td>\n",
              "      <td>83</td>\n",
              "      <td>0.41400</td>\n",
              "      <td>0.748</td>\n",
              "      <td>0.524</td>\n",
              "      <td>0.000000</td>\n",
              "      <td>8</td>\n",
              "      <td>0.1110</td>\n",
              "      <td>-5.599</td>\n",
              "      <td>1</td>\n",
              "      <td>0.0338</td>\n",
              "      <td>95.010</td>\n",
              "      <td>4</td>\n",
              "      <td>0.661</td>\n",
              "      <td>4.082667</td>\n",
              "    </tr>\n",
              "    <tr>\n",
              "      <th>4</th>\n",
              "      <td>1MDoll6jK4rrk2BcFRP5i7</td>\n",
              "      <td>Hello</td>\n",
              "      <td>Hello</td>\n",
              "      <td>2015-10-23</td>\n",
              "      <td>1</td>\n",
              "      <td>0.32900</td>\n",
              "      <td>0.471</td>\n",
              "      <td>0.431</td>\n",
              "      <td>0.000000</td>\n",
              "      <td>5</td>\n",
              "      <td>0.0854</td>\n",
              "      <td>-6.129</td>\n",
              "      <td>0</td>\n",
              "      <td>0.0342</td>\n",
              "      <td>157.980</td>\n",
              "      <td>4</td>\n",
              "      <td>0.289</td>\n",
              "      <td>4.925033</td>\n",
              "    </tr>\n",
              "    <tr>\n",
              "      <th>5</th>\n",
              "      <td>5YEOzOojehCqxGQCcQiyR4</td>\n",
              "      <td>Panda</td>\n",
              "      <td>New English</td>\n",
              "      <td>2016-06-26</td>\n",
              "      <td>70</td>\n",
              "      <td>0.02800</td>\n",
              "      <td>0.576</td>\n",
              "      <td>0.766</td>\n",
              "      <td>0.000002</td>\n",
              "      <td>10</td>\n",
              "      <td>0.3660</td>\n",
              "      <td>-4.943</td>\n",
              "      <td>0</td>\n",
              "      <td>0.4490</td>\n",
              "      <td>144.833</td>\n",
              "      <td>4</td>\n",
              "      <td>0.236</td>\n",
              "      <td>4.112683</td>\n",
              "    </tr>\n",
              "    <tr>\n",
              "      <th>7</th>\n",
              "      <td>6b3b7lILUJqXcp6w9wNQSm</td>\n",
              "      <td>Cheap Thrills (feat. Sean Paul)</td>\n",
              "      <td>Cheap Thrills (feat. Sean Paul)</td>\n",
              "      <td>2016-02-11</td>\n",
              "      <td>67</td>\n",
              "      <td>0.05610</td>\n",
              "      <td>0.592</td>\n",
              "      <td>0.800</td>\n",
              "      <td>0.000002</td>\n",
              "      <td>6</td>\n",
              "      <td>0.0775</td>\n",
              "      <td>-4.931</td>\n",
              "      <td>0</td>\n",
              "      <td>0.2150</td>\n",
              "      <td>89.972</td>\n",
              "      <td>4</td>\n",
              "      <td>0.728</td>\n",
              "      <td>3.746883</td>\n",
              "    </tr>\n",
              "    <tr>\n",
              "      <th>...</th>\n",
              "      <td>...</td>\n",
              "      <td>...</td>\n",
              "      <td>...</td>\n",
              "      <td>...</td>\n",
              "      <td>...</td>\n",
              "      <td>...</td>\n",
              "      <td>...</td>\n",
              "      <td>...</td>\n",
              "      <td>...</td>\n",
              "      <td>...</td>\n",
              "      <td>...</td>\n",
              "      <td>...</td>\n",
              "      <td>...</td>\n",
              "      <td>...</td>\n",
              "      <td>...</td>\n",
              "      <td>...</td>\n",
              "      <td>...</td>\n",
              "      <td>...</td>\n",
              "    </tr>\n",
              "    <tr>\n",
              "      <th>15290</th>\n",
              "      <td>1DOgkaR5Gqa8JtPEIbQORC</td>\n",
              "      <td>Over</td>\n",
              "      <td>Over</td>\n",
              "      <td>2021-09-22</td>\n",
              "      <td>78</td>\n",
              "      <td>0.48000</td>\n",
              "      <td>0.677</td>\n",
              "      <td>0.541</td>\n",
              "      <td>0.000000</td>\n",
              "      <td>6</td>\n",
              "      <td>0.1250</td>\n",
              "      <td>-6.057</td>\n",
              "      <td>0</td>\n",
              "      <td>0.0571</td>\n",
              "      <td>103.369</td>\n",
              "      <td>4</td>\n",
              "      <td>0.379</td>\n",
              "      <td>3.421267</td>\n",
              "    </tr>\n",
              "    <tr>\n",
              "      <th>15291</th>\n",
              "      <td>2qmWh0uDidLJ8yAlPOtq0g</td>\n",
              "      <td>How Deep Is Your Love</td>\n",
              "      <td>Bridgerton Season Two (Covers from the Netflix...</td>\n",
              "      <td>2022-03-25</td>\n",
              "      <td>67</td>\n",
              "      <td>0.56500</td>\n",
              "      <td>0.225</td>\n",
              "      <td>0.224</td>\n",
              "      <td>0.002080</td>\n",
              "      <td>4</td>\n",
              "      <td>0.0969</td>\n",
              "      <td>-16.583</td>\n",
              "      <td>0</td>\n",
              "      <td>0.0578</td>\n",
              "      <td>89.689</td>\n",
              "      <td>3</td>\n",
              "      <td>0.146</td>\n",
              "      <td>3.773900</td>\n",
              "    </tr>\n",
              "    <tr>\n",
              "      <th>15292</th>\n",
              "      <td>2QOB5UiRKggr2j9uMD3GYK</td>\n",
              "      <td>FREEDOM</td>\n",
              "      <td>WE ARE</td>\n",
              "      <td>2021-03-19</td>\n",
              "      <td>66</td>\n",
              "      <td>0.02510</td>\n",
              "      <td>0.873</td>\n",
              "      <td>0.651</td>\n",
              "      <td>0.000107</td>\n",
              "      <td>1</td>\n",
              "      <td>0.2130</td>\n",
              "      <td>-4.179</td>\n",
              "      <td>1</td>\n",
              "      <td>0.0374</td>\n",
              "      <td>115.002</td>\n",
              "      <td>4</td>\n",
              "      <td>0.828</td>\n",
              "      <td>2.971500</td>\n",
              "    </tr>\n",
              "    <tr>\n",
              "      <th>15293</th>\n",
              "      <td>2rf9i0Enr8cw1JRME8Rsvq</td>\n",
              "      <td>Cardboard Box</td>\n",
              "      <td>Cardboard Box</td>\n",
              "      <td>2022-03-24</td>\n",
              "      <td>62</td>\n",
              "      <td>0.04000</td>\n",
              "      <td>0.579</td>\n",
              "      <td>0.714</td>\n",
              "      <td>0.000000</td>\n",
              "      <td>1</td>\n",
              "      <td>0.3410</td>\n",
              "      <td>-4.308</td>\n",
              "      <td>1</td>\n",
              "      <td>0.0584</td>\n",
              "      <td>80.419</td>\n",
              "      <td>4</td>\n",
              "      <td>0.696</td>\n",
              "      <td>2.689433</td>\n",
              "    </tr>\n",
              "    <tr>\n",
              "      <th>15294</th>\n",
              "      <td>1mXDonQ1oXVimcd9i9wW4O</td>\n",
              "      <td>Make Up Your Mind</td>\n",
              "      <td>Make Up Your Mind</td>\n",
              "      <td>2011-08-01</td>\n",
              "      <td>34</td>\n",
              "      <td>0.10200</td>\n",
              "      <td>0.805</td>\n",
              "      <td>0.567</td>\n",
              "      <td>0.000101</td>\n",
              "      <td>6</td>\n",
              "      <td>0.0425</td>\n",
              "      <td>-9.463</td>\n",
              "      <td>0</td>\n",
              "      <td>0.0493</td>\n",
              "      <td>97.826</td>\n",
              "      <td>4</td>\n",
              "      <td>0.852</td>\n",
              "      <td>4.959100</td>\n",
              "    </tr>\n",
              "  </tbody>\n",
              "</table>\n",
              "<p>13889 rows × 18 columns</p>\n",
              "</div>\n",
              "      <button class=\"colab-df-convert\" onclick=\"convertToInteractive('df-74f0a5e9-3f2b-4c0b-bd54-925e5cda86d8')\"\n",
              "              title=\"Convert this dataframe to an interactive table.\"\n",
              "              style=\"display:none;\">\n",
              "        \n",
              "  <svg xmlns=\"http://www.w3.org/2000/svg\" height=\"24px\"viewBox=\"0 0 24 24\"\n",
              "       width=\"24px\">\n",
              "    <path d=\"M0 0h24v24H0V0z\" fill=\"none\"/>\n",
              "    <path d=\"M18.56 5.44l.94 2.06.94-2.06 2.06-.94-2.06-.94-.94-2.06-.94 2.06-2.06.94zm-11 1L8.5 8.5l.94-2.06 2.06-.94-2.06-.94L8.5 2.5l-.94 2.06-2.06.94zm10 10l.94 2.06.94-2.06 2.06-.94-2.06-.94-.94-2.06-.94 2.06-2.06.94z\"/><path d=\"M17.41 7.96l-1.37-1.37c-.4-.4-.92-.59-1.43-.59-.52 0-1.04.2-1.43.59L10.3 9.45l-7.72 7.72c-.78.78-.78 2.05 0 2.83L4 21.41c.39.39.9.59 1.41.59.51 0 1.02-.2 1.41-.59l7.78-7.78 2.81-2.81c.8-.78.8-2.07 0-2.86zM5.41 20L4 18.59l7.72-7.72 1.47 1.35L5.41 20z\"/>\n",
              "  </svg>\n",
              "      </button>\n",
              "      \n",
              "  <style>\n",
              "    .colab-df-container {\n",
              "      display:flex;\n",
              "      flex-wrap:wrap;\n",
              "      gap: 12px;\n",
              "    }\n",
              "\n",
              "    .colab-df-convert {\n",
              "      background-color: #E8F0FE;\n",
              "      border: none;\n",
              "      border-radius: 50%;\n",
              "      cursor: pointer;\n",
              "      display: none;\n",
              "      fill: #1967D2;\n",
              "      height: 32px;\n",
              "      padding: 0 0 0 0;\n",
              "      width: 32px;\n",
              "    }\n",
              "\n",
              "    .colab-df-convert:hover {\n",
              "      background-color: #E2EBFA;\n",
              "      box-shadow: 0px 1px 2px rgba(60, 64, 67, 0.3), 0px 1px 3px 1px rgba(60, 64, 67, 0.15);\n",
              "      fill: #174EA6;\n",
              "    }\n",
              "\n",
              "    [theme=dark] .colab-df-convert {\n",
              "      background-color: #3B4455;\n",
              "      fill: #D2E3FC;\n",
              "    }\n",
              "\n",
              "    [theme=dark] .colab-df-convert:hover {\n",
              "      background-color: #434B5C;\n",
              "      box-shadow: 0px 1px 3px 1px rgba(0, 0, 0, 0.15);\n",
              "      filter: drop-shadow(0px 1px 2px rgba(0, 0, 0, 0.3));\n",
              "      fill: #FFFFFF;\n",
              "    }\n",
              "  </style>\n",
              "\n",
              "      <script>\n",
              "        const buttonEl =\n",
              "          document.querySelector('#df-74f0a5e9-3f2b-4c0b-bd54-925e5cda86d8 button.colab-df-convert');\n",
              "        buttonEl.style.display =\n",
              "          google.colab.kernel.accessAllowed ? 'block' : 'none';\n",
              "\n",
              "        async function convertToInteractive(key) {\n",
              "          const element = document.querySelector('#df-74f0a5e9-3f2b-4c0b-bd54-925e5cda86d8');\n",
              "          const dataTable =\n",
              "            await google.colab.kernel.invokeFunction('convertToInteractive',\n",
              "                                                     [key], {});\n",
              "          if (!dataTable) return;\n",
              "\n",
              "          const docLinkHtml = 'Like what you see? Visit the ' +\n",
              "            '<a target=\"_blank\" href=https://colab.research.google.com/notebooks/data_table.ipynb>data table notebook</a>'\n",
              "            + ' to learn more about interactive tables.';\n",
              "          element.innerHTML = '';\n",
              "          dataTable['output_type'] = 'display_data';\n",
              "          await google.colab.output.renderOutput(dataTable, element);\n",
              "          const docLink = document.createElement('div');\n",
              "          docLink.innerHTML = docLinkHtml;\n",
              "          element.appendChild(docLink);\n",
              "        }\n",
              "      </script>\n",
              "    </div>\n",
              "  </div>\n",
              "  "
            ]
          },
          "metadata": {},
          "execution_count": 21
        }
      ]
    },
    {
      "cell_type": "code",
      "source": [
        "X_clean = data_clean.drop(columns=['Track ID', 'Name', 'Album', 'Release Date', 'Popularity'])\n",
        "y_clean = data_clean['Popularity']"
      ],
      "metadata": {
        "id": "coT77WvgWw9O"
      },
      "execution_count": null,
      "outputs": []
    },
    {
      "cell_type": "code",
      "source": [
        "plt.figure(figsize=(20,20))\n",
        "sns.distplot(data_clean['Popularity'])\n",
        "plt.title('Popularity Distribution')\n",
        "plt.show()"
      ],
      "metadata": {
        "colab": {
          "base_uri": "https://localhost:8080/",
          "height": 803
        },
        "id": "_JXUkOFn8PJS",
        "outputId": "3e4485b4-670d-4833-8e47-273f71865a1f"
      },
      "execution_count": null,
      "outputs": [
        {
          "output_type": "stream",
          "name": "stderr",
          "text": [
            "/usr/local/lib/python3.7/dist-packages/seaborn/distributions.py:2619: FutureWarning: `distplot` is a deprecated function and will be removed in a future version. Please adapt your code to use either `displot` (a figure-level function with similar flexibility) or `histplot` (an axes-level function for histograms).\n",
            "  warnings.warn(msg, FutureWarning)\n"
          ]
        },
        {
          "output_type": "display_data",
          "data": {
            "text/plain": [
              "<Figure size 1440x1440 with 1 Axes>"
            ],
            "image/png": "[encoded data removed]"
          },
          "metadata": {
            "needs_background": "light"
          }
        }
      ]
    },
    {
      "cell_type": "code",
      "source": [
        "from sklearn.model_selection import train_test_split\n",
        "X_train_clean, X_test_clean, y_train_clean, y_test_clean = train_test_split(X_clean, y_clean, test_size=0.20)"
      ],
      "metadata": {
        "id": "PYGvBPfaYJL2"
      },
      "execution_count": null,
      "outputs": []
    },
    {
      "cell_type": "code",
      "source": [
        "print(f'X_Train: {X_train_clean.shape}')\n",
        "print(f'y_Train: {y_train_clean.shape}')\n",
        "print(f'X_Test: {X_test_clean.shape}')\n",
        "print(f'y_Test: {y_test_clean.shape}')"
      ],
      "metadata": {
        "colab": {
          "base_uri": "https://localhost:8080/"
        },
        "id": "yHA9YP_VYQUt",
        "outputId": "506e015b-5e7e-4a1a-ff99-62c96aed9807"
      },
      "execution_count": null,
      "outputs": [
        {
          "output_type": "stream",
          "name": "stdout",
          "text": [
            "X_Train: (11111, 13)\n",
            "y_Train: (11111,)\n",
            "X_Test: (2778, 13)\n",
            "y_Test: (2778,)\n"
          ]
        }
      ]
    },
    {
      "cell_type": "code",
      "source": [
        "from sklearn.linear_model import LinearRegression\n",
        "lin_reg = LinearRegression()\n",
        "lin_reg.fit(X_train_clean,y_train_clean)\n",
        "y_pred_clean = lin_reg.predict(X_test_clean)"
      ],
      "metadata": {
        "id": "USoXoB_dYZQ8"
      },
      "execution_count": null,
      "outputs": []
    },
    {
      "cell_type": "code",
      "source": [
        "print('MSE:', metrics.mean_squared_error(y_test_clean, y_pred_clean))\n",
        "print('RMSE:', np.sqrt(metrics.mean_squared_error(y_test_clean, y_pred_clean)))\n",
        "print(f'Training data Accuracy: {round(lin_reg.score(X_train_clean, y_train_clean)* 100,2)}%')\n",
        "print(f'Testing data Accuracy: {round(lin_reg.score(X_test_clean, y_test_clean)* 100,2)}%')"
      ],
      "metadata": {
        "colab": {
          "base_uri": "https://localhost:8080/"
        },
        "id": "DDWzWZnWYivE",
        "outputId": "aae1383d-5b22-4910-d25e-d6df6134c5e5"
      },
      "execution_count": null,
      "outputs": [
        {
          "output_type": "stream",
          "name": "stdout",
          "text": [
            "MSE: 380.64866280282956\n",
            "RMSE: 19.510219445276096\n",
            "Training data Accuracy: 13.29%\n",
            "Testing data Accuracy: 12.16%\n"
          ]
        }
      ]
    },
    {
      "cell_type": "code",
      "source": [
        "X_clean2 = data_clean[['Loudness', 'Energy', 'Danceability', 'Valence', 'Speechiness', 'Instrumentalness']]\n",
        "y_clean2 = data_clean['Popularity']"
      ],
      "metadata": {
        "id": "NhlYzr3DZ169"
      },
      "execution_count": null,
      "outputs": []
    },
    {
      "cell_type": "code",
      "source": [
        "X_train_clean2, X_test_clean2, y_train_clean2, y_test_clean2 = train_test_split(X_clean2, y_clean2, test_size=0.20)\n",
        "lin_reg = LinearRegression()\n",
        "lin_reg.fit(X_train_clean2,y_train_clean2)\n",
        "y_pred_clean2 = lin_reg.predict(X_test_clean2)\n",
        "print('MSE:', metrics.mean_squared_error(y_test_clean2, y_pred_clean2))\n",
        "print('RMSE:', np.sqrt(metrics.mean_squared_error(y_test_clean2, y_pred_clean2)))\n",
        "print(f'Training data Accuracy: {round(lin_reg.score(X_train_clean2, y_train_clean2)* 100,2)}%')\n",
        "print(f'Testing data Accuracy: {round(lin_reg.score(X_test_clean2, y_test_clean2)* 100,2)}%')"
      ],
      "metadata": {
        "colab": {
          "base_uri": "https://localhost:8080/"
        },
        "id": "v-3Ffv5_Z_4w",
        "outputId": "63bfbc46-ce93-47a3-ea79-4575160616f9"
      },
      "execution_count": null,
      "outputs": [
        {
          "output_type": "stream",
          "name": "stdout",
          "text": [
            "MSE: 395.1740672019795\n",
            "RMSE: 19.87898556772904\n",
            "Training data Accuracy: 11.52%\n",
            "Testing data Accuracy: 9.81%\n"
          ]
        }
      ]
    },
    {
      "cell_type": "markdown",
      "source": [
        "# LOGISTIC REGRESSION"
      ],
      "metadata": {
        "id": "2puNVi8URLKf"
      }
    },
    {
      "cell_type": "code",
      "source": [
        "cutoff = 70"
      ],
      "metadata": {
        "id": "mUrz5Cids96z"
      },
      "execution_count": null,
      "outputs": []
    },
    {
      "cell_type": "code",
      "source": [
        "df_original0 = data.copy()\n",
        "df_original = data_clean.copy()\n",
        "\n",
        "df_original3 = data.copy()"
      ],
      "metadata": {
        "id": "ETSRaipzujeg"
      },
      "execution_count": null,
      "outputs": []
    },
    {
      "cell_type": "code",
      "source": [
        "df_original3 = df_original3.sample(frac=1).reset_index(drop=True)"
      ],
      "metadata": {
        "id": "Mg0Gh3HKtyYf"
      },
      "execution_count": null,
      "outputs": []
    },
    {
      "cell_type": "code",
      "source": [
        "import numpy as np\n",
        "from sklearn.metrics import roc_auc_score\n",
        "from sklearn.model_selection import train_test_split\n",
        "\n",
        "df_original0['popularity_threshold'] = np.where(df_original0['Popularity'] > cutoff, 1, 0)\n",
        "\n",
        "X_log0 = df_original0.drop(columns=['Track ID', 'Name', 'Album', 'Release Date', 'Popularity', 'popularity_threshold'])\n",
        "y_log0 = df_original0['popularity_threshold']\n",
        "\n",
        "X_train, X_test, y_train, y_test = train_test_split(X_log0, y_log0, test_size=0.20)\n",
        "\n",
        "from sklearn.linear_model import LogisticRegression\n",
        "clf = LogisticRegression(penalty='l1', solver='liblinear')\n",
        "clf.fit(X_train, y_train)\n",
        "\n",
        "score = clf.score(X_train, y_train)\n",
        "score2 = clf.score(X_test, y_test)\n",
        "print(f'Training data Accuracy: {round(score * 100,2)}%')\n",
        "print(f'Testing data Accuracy: {round(score2 * 100,2)}%')\n",
        "\n",
        "print(f'ROC_AUC_SCORE on Training Data: {round(roc_auc_score(y_train, clf.predict_proba(X_train)[:,1]) * 100,2)}%')\n",
        "print(f'ROC_AUC_SCORE on Testing Data: {round(roc_auc_score(y_test, clf.predict_proba(X_test)[:,1]) * 100,2)}%')"
      ],
      "metadata": {
        "colab": {
          "base_uri": "https://localhost:8080/"
        },
        "id": "WG-Yva6isOha",
        "outputId": "453b3a58-642e-4188-b97c-33cf89ec241f"
      },
      "execution_count": null,
      "outputs": [
        {
          "output_type": "stream",
          "name": "stdout",
          "text": [
            "Training data Accuracy: 89.89%\n",
            "Testing data Accuracy: 89.54%\n",
            "ROC_AUC_SCORE on Training Data: 75.12%\n",
            "ROC_AUC_SCORE on Testing Data: 75.52%\n"
          ]
        }
      ]
    },
    {
      "cell_type": "code",
      "source": [
        "import numpy as np\n",
        "from sklearn.metrics import roc_auc_score\n",
        "\n",
        "df_original3['popularity_threshold'] = np.where(df_original3['Popularity'] > cutoff, 1, 0)\n",
        "\n",
        "X_log0 = df_original3[['Loudness', 'Energy', 'Danceability', 'Speechiness', 'Instrumentalness']]\n",
        "y_log0 = df_original3['popularity_threshold']\n",
        "\n",
        "X_train, X_test, y_train, y_test = train_test_split(X_log0, y_log0, test_size=0.20)\n",
        "\n",
        "from sklearn.linear_model import LogisticRegressionCV\n",
        "clf = LogisticRegressionCV(penalty='l1', solver='liblinear')\n",
        "clf.fit(X_train, y_train)\n",
        "\n",
        "score = clf.score(X_train, y_train)\n",
        "score2 = clf.score(X_test, y_test)\n",
        "print(f'Training data Accuracy: {round(score * 100,2)}%')\n",
        "print(f'Testing data Accuracy: {round(score2 * 100,2)}%')\n",
        "\n",
        "print(f'ROC_AUC_SCORE on Training Data: {round(roc_auc_score(y_train, clf.predict_proba(X_train)[:,1]) * 100,2)}%')\n",
        "print(f'ROC_AUC_SCORE on Testing Data: {round(roc_auc_score(y_test, clf.predict_proba(X_test)[:,1]) * 100,2)}%')"
      ],
      "metadata": {
        "colab": {
          "base_uri": "https://localhost:8080/"
        },
        "id": "xPvGD7nRxcjE",
        "outputId": "9586c887-9830-4829-a09d-31262fb2820e"
      },
      "execution_count": null,
      "outputs": [
        {
          "output_type": "stream",
          "name": "stdout",
          "text": [
            "Training data Accuracy: 89.77%\n",
            "Testing data Accuracy: 90.07%\n",
            "ROC_AUC_SCORE on Training Data: 72.0%\n",
            "ROC_AUC_SCORE on Testing Data: 74.35%\n"
          ]
        }
      ]
    },
    {
      "cell_type": "code",
      "source": [
        "import numpy as np\n",
        "from sklearn.metrics import roc_auc_score\n",
        "\n",
        "df_original3['popularity_threshold'] = np.where(df_original3['Popularity'] > cutoff, 1, 0)\n",
        "\n",
        "X_log0 = df_original3[['Loudness', 'Energy', 'Danceability', 'Speechiness', 'Instrumentalness']]\n",
        "y_log0 = df_original3['popularity_threshold']\n",
        "\n",
        "X_train, X_test, y_train, y_test = train_test_split(X_log0, y_log0, test_size=0.20)\n",
        "\n",
        "from sklearn.linear_model import LogisticRegression\n",
        "clf = LogisticRegression(penalty='l1', solver='liblinear', class_weight = 'balanced')\n",
        "clf.fit(X_train, y_train)\n",
        "\n",
        "score = clf.score(X_train, y_train)\n",
        "score2 = clf.score(X_test, y_test)\n",
        "print(f'Training data Accuracy: {round(score * 100,2)}%')\n",
        "print(f'Testing data Accuracy: {round(score2 * 100,2)}%')\n",
        "\n",
        "print(f'ROC_AUC_SCORE on Training Data: {round(roc_auc_score(y_train, clf.predict_proba(X_train)[:,1]) * 100,2)}%')\n",
        "print(f'ROC_AUC_SCORE on Testing Data: {round(roc_auc_score(y_test, clf.predict_proba(X_test)[:,1]) * 100,2)}%')"
      ],
      "metadata": {
        "colab": {
          "base_uri": "https://localhost:8080/"
        },
        "id": "_fo78nIyfrnf",
        "outputId": "4fd8258d-6e35-4a34-eb45-f0745177e5a3"
      },
      "execution_count": null,
      "outputs": [
        {
          "output_type": "stream",
          "name": "stdout",
          "text": [
            "Training data Accuracy: 62.22%\n",
            "Testing data Accuracy: 62.35%\n",
            "ROC_AUC_SCORE on Training Data: 73.04%\n",
            "ROC_AUC_SCORE on Testing Data: 72.41%\n"
          ]
        }
      ]
    },
    {
      "cell_type": "code",
      "source": [
        "fpr_test, tpr_test, thresholds = metrics.roc_curve(y_test, clf.predict_proba(X_test)[:,1])\n",
        "auc_test = metrics.auc(fpr_test, tpr_test)\n",
        "\n",
        "fpr_train, tpr_train, thresholds = metrics.roc_curve(y_train, clf.predict_proba(X_train)[:,1])\n",
        "auc_train = metrics.auc(fpr_train, tpr_train)\n"
      ],
      "metadata": {
        "id": "gEEHO5uUobJu"
      },
      "execution_count": null,
      "outputs": []
    },
    {
      "cell_type": "code",
      "source": [
        "Z = clf.predict(X_test)\n",
        "df_original3.loc[int(X_log0.shape[0]*0.8):,'predictions']=Z\n",
        "df_original3.to_csv(\"Data.csv\")"
      ],
      "metadata": {
        "id": "3Nv6D2IxpoE_"
      },
      "execution_count": null,
      "outputs": []
    },
    {
      "cell_type": "code",
      "source": [
        "from sklearn import metrics\n",
        "from sklearn.metrics import roc_curve, roc_auc_score\n",
        "\n",
        "fpr, tpr, thresholds = metrics.roc_curve(y_test, clf.predict_proba(X_test)[:,1])\n",
        "display = metrics.RocCurveDisplay(fpr=fpr_test, tpr=tpr_test, roc_auc=auc_test, estimator_name='Testing')\n",
        "fig, ax = plt.subplots(figsize=(20,20))\n",
        "display.plot(ax=ax)"
      ],
      "metadata": {
        "colab": {
          "base_uri": "https://localhost:8080/",
          "height": 767
        },
        "id": "epfc_ybKm0o-",
        "outputId": "000789f3-8627-48b9-fa06-2f596af58fc3"
      },
      "execution_count": null,
      "outputs": [
        {
          "output_type": "execute_result",
          "data": {
            "text/plain": [
              "<sklearn.metrics._plot.roc_curve.RocCurveDisplay at 0x7ff9459a9c90>"
            ]
          },
          "metadata": {},
          "execution_count": 41
        },
        {
          "output_type": "display_data",
          "data": {
            "text/plain": [
              "<Figure size 1440x1440 with 1 Axes>"
            ],
            "image/png": "[encoded data removed]"
          },
          "metadata": {
            "needs_background": "light"
          }
        }
      ]
    },
    {
      "cell_type": "code",
      "source": [
        "df_original['popularity_threshold'] = np.where(df_original['Popularity'] > cutoff, 1, 0)\n"
      ],
      "metadata": {
        "id": "nASvFpOWiUtm"
      },
      "execution_count": null,
      "outputs": []
    },
    {
      "cell_type": "code",
      "source": [
        "df_original"
      ],
      "metadata": {
        "colab": {
          "base_uri": "https://localhost:8080/",
          "height": 800
        },
        "id": "qJ_WXR_UOTr1",
        "outputId": "f6bab927-75d4-4d01-c8b1-1cdda5e49c38"
      },
      "execution_count": null,
      "outputs": [
        {
          "output_type": "execute_result",
          "data": {
            "text/plain": [
              "                     Track ID                             Name  \\\n",
              "1      1zi7xx7UVEFkmKfv06H8x0                        One Dance   \n",
              "3      7BKLCZ1jbUBVqRi2FVlTVw                           Closer   \n",
              "4      1MDoll6jK4rrk2BcFRP5i7                            Hello   \n",
              "5      5YEOzOojehCqxGQCcQiyR4                            Panda   \n",
              "7      6b3b7lILUJqXcp6w9wNQSm  Cheap Thrills (feat. Sean Paul)   \n",
              "...                       ...                              ...   \n",
              "15290  1DOgkaR5Gqa8JtPEIbQORC                             Over   \n",
              "15291  2qmWh0uDidLJ8yAlPOtq0g            How Deep Is Your Love   \n",
              "15292  2QOB5UiRKggr2j9uMD3GYK                          FREEDOM   \n",
              "15293  2rf9i0Enr8cw1JRME8Rsvq                    Cardboard Box   \n",
              "15294  1mXDonQ1oXVimcd9i9wW4O                Make Up Your Mind   \n",
              "\n",
              "                                                   Album Release Date  \\\n",
              "1                                                  Views   2016-05-06   \n",
              "3                                                 Closer   2016-07-29   \n",
              "4                                                  Hello   2015-10-23   \n",
              "5                                            New English   2016-06-26   \n",
              "7                        Cheap Thrills (feat. Sean Paul)   2016-02-11   \n",
              "...                                                  ...          ...   \n",
              "15290                                               Over   2021-09-22   \n",
              "15291  Bridgerton Season Two (Covers from the Netflix...   2022-03-25   \n",
              "15292                                             WE ARE   2021-03-19   \n",
              "15293                                      Cardboard Box   2022-03-24   \n",
              "15294                                  Make Up Your Mind   2011-08-01   \n",
              "\n",
              "       Popularity  Acousticness  Danceability  Energy  Instrumentalness  Key  \\\n",
              "1              83       0.00776         0.792   0.625          0.001800    1   \n",
              "3              83       0.41400         0.748   0.524          0.000000    8   \n",
              "4               1       0.32900         0.471   0.431          0.000000    5   \n",
              "5              70       0.02800         0.576   0.766          0.000002   10   \n",
              "7              67       0.05610         0.592   0.800          0.000002    6   \n",
              "...           ...           ...           ...     ...               ...  ...   \n",
              "15290          78       0.48000         0.677   0.541          0.000000    6   \n",
              "15291          67       0.56500         0.225   0.224          0.002080    4   \n",
              "15292          66       0.02510         0.873   0.651          0.000107    1   \n",
              "15293          62       0.04000         0.579   0.714          0.000000    1   \n",
              "15294          34       0.10200         0.805   0.567          0.000101    6   \n",
              "\n",
              "       Liveness  Loudness  Mode  Speechiness    Tempo  Time Signature  \\\n",
              "1        0.3290    -5.609     1       0.0536  103.967               4   \n",
              "3        0.1110    -5.599     1       0.0338   95.010               4   \n",
              "4        0.0854    -6.129     0       0.0342  157.980               4   \n",
              "5        0.3660    -4.943     0       0.4490  144.833               4   \n",
              "7        0.0775    -4.931     0       0.2150   89.972               4   \n",
              "...         ...       ...   ...          ...      ...             ...   \n",
              "15290    0.1250    -6.057     0       0.0571  103.369               4   \n",
              "15291    0.0969   -16.583     0       0.0578   89.689               3   \n",
              "15292    0.2130    -4.179     1       0.0374  115.002               4   \n",
              "15293    0.3410    -4.308     1       0.0584   80.419               4   \n",
              "15294    0.0425    -9.463     0       0.0493   97.826               4   \n",
              "\n",
              "       Valence  Duration (m)  popularity_threshold  \n",
              "1        0.370      2.899783                     1  \n",
              "3        0.661      4.082667                     1  \n",
              "4        0.289      4.925033                     0  \n",
              "5        0.236      4.112683                     0  \n",
              "7        0.728      3.746883                     0  \n",
              "...        ...           ...                   ...  \n",
              "15290    0.379      3.421267                     1  \n",
              "15291    0.146      3.773900                     0  \n",
              "15292    0.828      2.971500                     0  \n",
              "15293    0.696      2.689433                     0  \n",
              "15294    0.852      4.959100                     0  \n",
              "\n",
              "[13889 rows x 19 columns]"
            ],
            "text/html": [
              "\n",
              "  <div id=\"df-39356df8-46b5-4f1c-8fd7-0731c5dd00d8\">\n",
              "    <div class=\"colab-df-container\">\n",
              "      <div>\n",
              "<style scoped>\n",
              "    .dataframe tbody tr th:only-of-type {\n",
              "        vertical-align: middle;\n",
              "    }\n",
              "\n",
              "    .dataframe tbody tr th {\n",
              "        vertical-align: top;\n",
              "    }\n",
              "\n",
              "    .dataframe thead th {\n",
              "        text-align: right;\n",
              "    }\n",
              "</style>\n",
              "<table border=\"1\" class=\"dataframe\">\n",
              "  <thead>\n",
              "    <tr style=\"text-align: right;\">\n",
              "      <th></th>\n",
              "      <th>Track ID</th>\n",
              "      <th>Name</th>\n",
              "      <th>Album</th>\n",
              "      <th>Release Date</th>\n",
              "      <th>Popularity</th>\n",
              "      <th>Acousticness</th>\n",
              "      <th>Danceability</th>\n",
              "      <th>Energy</th>\n",
              "      <th>Instrumentalness</th>\n",
              "      <th>Key</th>\n",
              "      <th>Liveness</th>\n",
              "      <th>Loudness</th>\n",
              "      <th>Mode</th>\n",
              "      <th>Speechiness</th>\n",
              "      <th>Tempo</th>\n",
              "      <th>Time Signature</th>\n",
              "      <th>Valence</th>\n",
              "      <th>Duration (m)</th>\n",
              "      <th>popularity_threshold</th>\n",
              "    </tr>\n",
              "  </thead>\n",
              "  <tbody>\n",
              "    <tr>\n",
              "      <th>1</th>\n",
              "      <td>1zi7xx7UVEFkmKfv06H8x0</td>\n",
              "      <td>One Dance</td>\n",
              "      <td>Views</td>\n",
              "      <td>2016-05-06</td>\n",
              "      <td>83</td>\n",
              "      <td>0.00776</td>\n",
              "      <td>0.792</td>\n",
              "      <td>0.625</td>\n",
              "      <td>0.001800</td>\n",
              "      <td>1</td>\n",
              "      <td>0.3290</td>\n",
              "      <td>-5.609</td>\n",
              "      <td>1</td>\n",
              "      <td>0.0536</td>\n",
              "      <td>103.967</td>\n",
              "      <td>4</td>\n",
              "      <td>0.370</td>\n",
              "      <td>2.899783</td>\n",
              "      <td>1</td>\n",
              "    </tr>\n",
              "    <tr>\n",
              "      <th>3</th>\n",
              "      <td>7BKLCZ1jbUBVqRi2FVlTVw</td>\n",
              "      <td>Closer</td>\n",
              "      <td>Closer</td>\n",
              "      <td>2016-07-29</td>\n",
              "      <td>83</td>\n",
              "      <td>0.41400</td>\n",
              "      <td>0.748</td>\n",
              "      <td>0.524</td>\n",
              "      <td>0.000000</td>\n",
              "      <td>8</td>\n",
              "      <td>0.1110</td>\n",
              "      <td>-5.599</td>\n",
              "      <td>1</td>\n",
              "      <td>0.0338</td>\n",
              "      <td>95.010</td>\n",
              "      <td>4</td>\n",
              "      <td>0.661</td>\n",
              "      <td>4.082667</td>\n",
              "      <td>1</td>\n",
              "    </tr>\n",
              "    <tr>\n",
              "      <th>4</th>\n",
              "      <td>1MDoll6jK4rrk2BcFRP5i7</td>\n",
              "      <td>Hello</td>\n",
              "      <td>Hello</td>\n",
              "      <td>2015-10-23</td>\n",
              "      <td>1</td>\n",
              "      <td>0.32900</td>\n",
              "      <td>0.471</td>\n",
              "      <td>0.431</td>\n",
              "      <td>0.000000</td>\n",
              "      <td>5</td>\n",
              "      <td>0.0854</td>\n",
              "      <td>-6.129</td>\n",
              "      <td>0</td>\n",
              "      <td>0.0342</td>\n",
              "      <td>157.980</td>\n",
              "      <td>4</td>\n",
              "      <td>0.289</td>\n",
              "      <td>4.925033</td>\n",
              "      <td>0</td>\n",
              "    </tr>\n",
              "    <tr>\n",
              "      <th>5</th>\n",
              "      <td>5YEOzOojehCqxGQCcQiyR4</td>\n",
              "      <td>Panda</td>\n",
              "      <td>New English</td>\n",
              "      <td>2016-06-26</td>\n",
              "      <td>70</td>\n",
              "      <td>0.02800</td>\n",
              "      <td>0.576</td>\n",
              "      <td>0.766</td>\n",
              "      <td>0.000002</td>\n",
              "      <td>10</td>\n",
              "      <td>0.3660</td>\n",
              "      <td>-4.943</td>\n",
              "      <td>0</td>\n",
              "      <td>0.4490</td>\n",
              "      <td>144.833</td>\n",
              "      <td>4</td>\n",
              "      <td>0.236</td>\n",
              "      <td>4.112683</td>\n",
              "      <td>0</td>\n",
              "    </tr>\n",
              "    <tr>\n",
              "      <th>7</th>\n",
              "      <td>6b3b7lILUJqXcp6w9wNQSm</td>\n",
              "      <td>Cheap Thrills (feat. Sean Paul)</td>\n",
              "      <td>Cheap Thrills (feat. Sean Paul)</td>\n",
              "      <td>2016-02-11</td>\n",
              "      <td>67</td>\n",
              "      <td>0.05610</td>\n",
              "      <td>0.592</td>\n",
              "      <td>0.800</td>\n",
              "      <td>0.000002</td>\n",
              "      <td>6</td>\n",
              "      <td>0.0775</td>\n",
              "      <td>-4.931</td>\n",
              "      <td>0</td>\n",
              "      <td>0.2150</td>\n",
              "      <td>89.972</td>\n",
              "      <td>4</td>\n",
              "      <td>0.728</td>\n",
              "      <td>3.746883</td>\n",
              "      <td>0</td>\n",
              "    </tr>\n",
              "    <tr>\n",
              "      <th>...</th>\n",
              "      <td>...</td>\n",
              "      <td>...</td>\n",
              "      <td>...</td>\n",
              "      <td>...</td>\n",
              "      <td>...</td>\n",
              "      <td>...</td>\n",
              "      <td>...</td>\n",
              "      <td>...</td>\n",
              "      <td>...</td>\n",
              "      <td>...</td>\n",
              "      <td>...</td>\n",
              "      <td>...</td>\n",
              "      <td>...</td>\n",
              "      <td>...</td>\n",
              "      <td>...</td>\n",
              "      <td>...</td>\n",
              "      <td>...</td>\n",
              "      <td>...</td>\n",
              "      <td>...</td>\n",
              "    </tr>\n",
              "    <tr>\n",
              "      <th>15290</th>\n",
              "      <td>1DOgkaR5Gqa8JtPEIbQORC</td>\n",
              "      <td>Over</td>\n",
              "      <td>Over</td>\n",
              "      <td>2021-09-22</td>\n",
              "      <td>78</td>\n",
              "      <td>0.48000</td>\n",
              "      <td>0.677</td>\n",
              "      <td>0.541</td>\n",
              "      <td>0.000000</td>\n",
              "      <td>6</td>\n",
              "      <td>0.1250</td>\n",
              "      <td>-6.057</td>\n",
              "      <td>0</td>\n",
              "      <td>0.0571</td>\n",
              "      <td>103.369</td>\n",
              "      <td>4</td>\n",
              "      <td>0.379</td>\n",
              "      <td>3.421267</td>\n",
              "      <td>1</td>\n",
              "    </tr>\n",
              "    <tr>\n",
              "      <th>15291</th>\n",
              "      <td>2qmWh0uDidLJ8yAlPOtq0g</td>\n",
              "      <td>How Deep Is Your Love</td>\n",
              "      <td>Bridgerton Season Two (Covers from the Netflix...</td>\n",
              "      <td>2022-03-25</td>\n",
              "      <td>67</td>\n",
              "      <td>0.56500</td>\n",
              "      <td>0.225</td>\n",
              "      <td>0.224</td>\n",
              "      <td>0.002080</td>\n",
              "      <td>4</td>\n",
              "      <td>0.0969</td>\n",
              "      <td>-16.583</td>\n",
              "      <td>0</td>\n",
              "      <td>0.0578</td>\n",
              "      <td>89.689</td>\n",
              "      <td>3</td>\n",
              "      <td>0.146</td>\n",
              "      <td>3.773900</td>\n",
              "      <td>0</td>\n",
              "    </tr>\n",
              "    <tr>\n",
              "      <th>15292</th>\n",
              "      <td>2QOB5UiRKggr2j9uMD3GYK</td>\n",
              "      <td>FREEDOM</td>\n",
              "      <td>WE ARE</td>\n",
              "      <td>2021-03-19</td>\n",
              "      <td>66</td>\n",
              "      <td>0.02510</td>\n",
              "      <td>0.873</td>\n",
              "      <td>0.651</td>\n",
              "      <td>0.000107</td>\n",
              "      <td>1</td>\n",
              "      <td>0.2130</td>\n",
              "      <td>-4.179</td>\n",
              "      <td>1</td>\n",
              "      <td>0.0374</td>\n",
              "      <td>115.002</td>\n",
              "      <td>4</td>\n",
              "      <td>0.828</td>\n",
              "      <td>2.971500</td>\n",
              "      <td>0</td>\n",
              "    </tr>\n",
              "    <tr>\n",
              "      <th>15293</th>\n",
              "      <td>2rf9i0Enr8cw1JRME8Rsvq</td>\n",
              "      <td>Cardboard Box</td>\n",
              "      <td>Cardboard Box</td>\n",
              "      <td>2022-03-24</td>\n",
              "      <td>62</td>\n",
              "      <td>0.04000</td>\n",
              "      <td>0.579</td>\n",
              "      <td>0.714</td>\n",
              "      <td>0.000000</td>\n",
              "      <td>1</td>\n",
              "      <td>0.3410</td>\n",
              "      <td>-4.308</td>\n",
              "      <td>1</td>\n",
              "      <td>0.0584</td>\n",
              "      <td>80.419</td>\n",
              "      <td>4</td>\n",
              "      <td>0.696</td>\n",
              "      <td>2.689433</td>\n",
              "      <td>0</td>\n",
              "    </tr>\n",
              "    <tr>\n",
              "      <th>15294</th>\n",
              "      <td>1mXDonQ1oXVimcd9i9wW4O</td>\n",
              "      <td>Make Up Your Mind</td>\n",
              "      <td>Make Up Your Mind</td>\n",
              "      <td>2011-08-01</td>\n",
              "      <td>34</td>\n",
              "      <td>0.10200</td>\n",
              "      <td>0.805</td>\n",
              "      <td>0.567</td>\n",
              "      <td>0.000101</td>\n",
              "      <td>6</td>\n",
              "      <td>0.0425</td>\n",
              "      <td>-9.463</td>\n",
              "      <td>0</td>\n",
              "      <td>0.0493</td>\n",
              "      <td>97.826</td>\n",
              "      <td>4</td>\n",
              "      <td>0.852</td>\n",
              "      <td>4.959100</td>\n",
              "      <td>0</td>\n",
              "    </tr>\n",
              "  </tbody>\n",
              "</table>\n",
              "<p>13889 rows × 19 columns</p>\n",
              "</div>\n",
              "      <button class=\"colab-df-convert\" onclick=\"convertToInteractive('df-39356df8-46b5-4f1c-8fd7-0731c5dd00d8')\"\n",
              "              title=\"Convert this dataframe to an interactive table.\"\n",
              "              style=\"display:none;\">\n",
              "        \n",
              "  <svg xmlns=\"http://www.w3.org/2000/svg\" height=\"24px\"viewBox=\"0 0 24 24\"\n",
              "       width=\"24px\">\n",
              "    <path d=\"M0 0h24v24H0V0z\" fill=\"none\"/>\n",
              "    <path d=\"M18.56 5.44l.94 2.06.94-2.06 2.06-.94-2.06-.94-.94-2.06-.94 2.06-2.06.94zm-11 1L8.5 8.5l.94-2.06 2.06-.94-2.06-.94L8.5 2.5l-.94 2.06-2.06.94zm10 10l.94 2.06.94-2.06 2.06-.94-2.06-.94-.94-2.06-.94 2.06-2.06.94z\"/><path d=\"M17.41 7.96l-1.37-1.37c-.4-.4-.92-.59-1.43-.59-.52 0-1.04.2-1.43.59L10.3 9.45l-7.72 7.72c-.78.78-.78 2.05 0 2.83L4 21.41c.39.39.9.59 1.41.59.51 0 1.02-.2 1.41-.59l7.78-7.78 2.81-2.81c.8-.78.8-2.07 0-2.86zM5.41 20L4 18.59l7.72-7.72 1.47 1.35L5.41 20z\"/>\n",
              "  </svg>\n",
              "      </button>\n",
              "      \n",
              "  <style>\n",
              "    .colab-df-container {\n",
              "      display:flex;\n",
              "      flex-wrap:wrap;\n",
              "      gap: 12px;\n",
              "    }\n",
              "\n",
              "    .colab-df-convert {\n",
              "      background-color: #E8F0FE;\n",
              "      border: none;\n",
              "      border-radius: 50%;\n",
              "      cursor: pointer;\n",
              "      display: none;\n",
              "      fill: #1967D2;\n",
              "      height: 32px;\n",
              "      padding: 0 0 0 0;\n",
              "      width: 32px;\n",
              "    }\n",
              "\n",
              "    .colab-df-convert:hover {\n",
              "      background-color: #E2EBFA;\n",
              "      box-shadow: 0px 1px 2px rgba(60, 64, 67, 0.3), 0px 1px 3px 1px rgba(60, 64, 67, 0.15);\n",
              "      fill: #174EA6;\n",
              "    }\n",
              "\n",
              "    [theme=dark] .colab-df-convert {\n",
              "      background-color: #3B4455;\n",
              "      fill: #D2E3FC;\n",
              "    }\n",
              "\n",
              "    [theme=dark] .colab-df-convert:hover {\n",
              "      background-color: #434B5C;\n",
              "      box-shadow: 0px 1px 3px 1px rgba(0, 0, 0, 0.15);\n",
              "      filter: drop-shadow(0px 1px 2px rgba(0, 0, 0, 0.3));\n",
              "      fill: #FFFFFF;\n",
              "    }\n",
              "  </style>\n",
              "\n",
              "      <script>\n",
              "        const buttonEl =\n",
              "          document.querySelector('#df-39356df8-46b5-4f1c-8fd7-0731c5dd00d8 button.colab-df-convert');\n",
              "        buttonEl.style.display =\n",
              "          google.colab.kernel.accessAllowed ? 'block' : 'none';\n",
              "\n",
              "        async function convertToInteractive(key) {\n",
              "          const element = document.querySelector('#df-39356df8-46b5-4f1c-8fd7-0731c5dd00d8');\n",
              "          const dataTable =\n",
              "            await google.colab.kernel.invokeFunction('convertToInteractive',\n",
              "                                                     [key], {});\n",
              "          if (!dataTable) return;\n",
              "\n",
              "          const docLinkHtml = 'Like what you see? Visit the ' +\n",
              "            '<a target=\"_blank\" href=https://colab.research.google.com/notebooks/data_table.ipynb>data table notebook</a>'\n",
              "            + ' to learn more about interactive tables.';\n",
              "          element.innerHTML = '';\n",
              "          dataTable['output_type'] = 'display_data';\n",
              "          await google.colab.output.renderOutput(dataTable, element);\n",
              "          const docLink = document.createElement('div');\n",
              "          docLink.innerHTML = docLinkHtml;\n",
              "          element.appendChild(docLink);\n",
              "        }\n",
              "      </script>\n",
              "    </div>\n",
              "  </div>\n",
              "  "
            ]
          },
          "metadata": {},
          "execution_count": 43
        }
      ]
    },
    {
      "cell_type": "code",
      "source": [
        "X_log = df_original.drop(columns=['Track ID', 'Name', 'Album', 'Release Date', 'Popularity', 'popularity_threshold'])\n",
        "y_log = df_original['popularity_threshold']"
      ],
      "metadata": {
        "id": "w8tOGgulijJb"
      },
      "execution_count": null,
      "outputs": []
    },
    {
      "cell_type": "code",
      "source": [
        "from sklearn.model_selection import train_test_split\n",
        "X_train_log, X_test_log, y_train_log, y_test_log = train_test_split(X_log, y_log, test_size=0.30)"
      ],
      "metadata": {
        "id": "GOYkMfLxSH-T"
      },
      "execution_count": null,
      "outputs": []
    },
    {
      "cell_type": "code",
      "source": [
        "print(f'X_Train: {X_train_log.shape}')\n",
        "print(f'y_Train: {y_train_log.shape}')\n",
        "print(f'X_Test: {X_test_log.shape}')\n",
        "print(f'y_Test: {y_test_log.shape}')"
      ],
      "metadata": {
        "colab": {
          "base_uri": "https://localhost:8080/"
        },
        "id": "IzglT7NdVVae",
        "outputId": "209bd311-357d-4c1c-8dfc-5ade01888507"
      },
      "execution_count": null,
      "outputs": [
        {
          "output_type": "stream",
          "name": "stdout",
          "text": [
            "X_Train: (9722, 13)\n",
            "y_Train: (9722,)\n",
            "X_Test: (4167, 13)\n",
            "y_Test: (4167,)\n"
          ]
        }
      ]
    },
    {
      "cell_type": "code",
      "source": [
        "from sklearn.linear_model import LogisticRegression\n",
        "clf = LogisticRegression(penalty='l1', solver='liblinear')\n",
        "clf.fit(X_train_log, y_train_log)"
      ],
      "metadata": {
        "colab": {
          "base_uri": "https://localhost:8080/"
        },
        "id": "kGhID9VSC8ap",
        "outputId": "3277cdca-db8b-4ec4-e923-c1a34724138d"
      },
      "execution_count": null,
      "outputs": [
        {
          "output_type": "execute_result",
          "data": {
            "text/plain": [
              "LogisticRegression(penalty='l1', solver='liblinear')"
            ]
          },
          "metadata": {},
          "execution_count": 47
        }
      ]
    },
    {
      "cell_type": "code",
      "source": [
        "score = clf.score(X_train_log, y_train_log)\n",
        "score2 = clf.score(X_test_log, y_test_log)\n",
        "print(f'Training data Accuracy: {round(score * 100,2)}%')\n",
        "print(f'Testing data Accuracy: {round(score2 * 100,2)}%')"
      ],
      "metadata": {
        "id": "V09s2rSjZmWc",
        "colab": {
          "base_uri": "https://localhost:8080/"
        },
        "outputId": "68e6a8da-e798-4865-cccb-6e74951b8ad2"
      },
      "execution_count": null,
      "outputs": [
        {
          "output_type": "stream",
          "name": "stdout",
          "text": [
            "Training data Accuracy: 88.7%\n",
            "Testing data Accuracy: 88.86%\n"
          ]
        }
      ]
    },
    {
      "cell_type": "code",
      "source": [
        "y_pred_train = clf.predict_proba(X_train_log)[:,1]\n",
        "y_pred_test = clf.predict_proba(X_test_log)[:,1]"
      ],
      "metadata": {
        "id": "-Y0nVGdukQ0B"
      },
      "execution_count": null,
      "outputs": []
    },
    {
      "cell_type": "code",
      "source": [
        "y_test_log\n"
      ],
      "metadata": {
        "colab": {
          "base_uri": "https://localhost:8080/"
        },
        "id": "Vqe5PMI1NI65",
        "outputId": "01ff0ce6-6f8c-4a38-d47e-2d3c1c6c09d4"
      },
      "execution_count": null,
      "outputs": [
        {
          "output_type": "execute_result",
          "data": {
            "text/plain": [
              "171      1\n",
              "9365     0\n",
              "11588    0\n",
              "12288    0\n",
              "8039     0\n",
              "        ..\n",
              "13130    0\n",
              "8243     0\n",
              "10753    0\n",
              "12171    0\n",
              "13770    0\n",
              "Name: popularity_threshold, Length: 4167, dtype: int64"
            ]
          },
          "metadata": {},
          "execution_count": 50
        }
      ]
    },
    {
      "cell_type": "code",
      "source": [
        "print(f'ROC_AUC_SCORE on Training Data: {round(roc_auc_score(y_train_log, clf.predict_proba(X_train_log)[:,1]) * 100,2)}%')\n",
        "print(f'ROC_AUC_SCORE on Testing Data: {round(roc_auc_score(y_test_log, clf.predict_proba(X_test_log)[:,1]) * 100,2)}%')\n"
      ],
      "metadata": {
        "colab": {
          "base_uri": "https://localhost:8080/"
        },
        "id": "BUYwnuZXe7em",
        "outputId": "5e19991d-f0f6-4b4c-d865-929f37dd5a6b"
      },
      "execution_count": null,
      "outputs": [
        {
          "output_type": "stream",
          "name": "stdout",
          "text": [
            "ROC_AUC_SCORE on Training Data: 75.06%\n",
            "ROC_AUC_SCORE on Testing Data: 76.25%\n"
          ]
        }
      ]
    },
    {
      "cell_type": "code",
      "source": [
        "from sklearn import metrics\n",
        "from sklearn.metrics import roc_curve, roc_auc_score\n",
        "\n",
        "fpr, tpr, thresholds = metrics.roc_curve(y_test_log, y_pred_test)\n",
        "roc_auc = metrics.auc(fpr, tpr)\n",
        "\n",
        "fpr2, tpr2, thresholds = metrics.roc_curve(y_train_log, y_pred_train)\n",
        "roc_auc2 = metrics.auc(fpr2, tpr2)"
      ],
      "metadata": {
        "id": "TPCSk_bZO8h4"
      },
      "execution_count": null,
      "outputs": []
    },
    {
      "cell_type": "code",
      "source": [
        "display = metrics.RocCurveDisplay(fpr=fpr, tpr=tpr, roc_auc=roc_auc, estimator_name='Testing')\n",
        "display.plot()"
      ],
      "metadata": {
        "colab": {
          "base_uri": "https://localhost:8080/",
          "height": 297
        },
        "id": "IM2vSCuhP348",
        "outputId": "d36e5572-c72b-47e3-8df4-9e8cf29fe9b2"
      },
      "execution_count": null,
      "outputs": [
        {
          "output_type": "execute_result",
          "data": {
            "text/plain": [
              "<sklearn.metrics._plot.roc_curve.RocCurveDisplay at 0x7ff9455e7c10>"
            ]
          },
          "metadata": {},
          "execution_count": 53
        },
        {
          "output_type": "display_data",
          "data": {
            "text/plain": [
              "<Figure size 432x288 with 1 Axes>"
            ],
            "image/png": "[encoded data removed]"
          },
          "metadata": {
            "needs_background": "light"
          }
        }
      ]
    },
    {
      "cell_type": "markdown",
      "source": [
        "# KNN Classifier"
      ],
      "metadata": {
        "id": "IG-TNiCscY7o"
      }
    },
    {
      "cell_type": "code",
      "source": [
        "df_original1 = data.copy()\n",
        "df_original2 = data_clean.copy()"
      ],
      "metadata": {
        "id": "p2KDzlU9kpuD"
      },
      "execution_count": null,
      "outputs": []
    },
    {
      "cell_type": "markdown",
      "source": [
        "Non-cleaned data:"
      ],
      "metadata": {
        "id": "lrwsmld3jtF_"
      }
    },
    {
      "cell_type": "code",
      "source": [
        "X = df_original1.drop(columns=['Track ID', 'Name', 'Album', 'Release Date', 'Popularity'])\n",
        "y = df_original1['Popularity']"
      ],
      "metadata": {
        "id": "EQiM5wlVkGFA"
      },
      "execution_count": null,
      "outputs": []
    },
    {
      "cell_type": "code",
      "source": [
        "pd.cut(df_original1['Popularity'], bins=3)\n",
        "pd.cut(df_original1['Popularity'], bins=3, labels = ['low', 'medium', 'high']).value_counts()"
      ],
      "metadata": {
        "colab": {
          "base_uri": "https://localhost:8080/"
        },
        "id": "zx23fTCJjwcE",
        "outputId": "4dea11d9-a888-4e6a-996c-3c2a055e60c1"
      },
      "execution_count": null,
      "outputs": [
        {
          "output_type": "execute_result",
          "data": {
            "text/plain": [
              "medium    7433\n",
              "low       5482\n",
              "high      2381\n",
              "Name: Popularity, dtype: int64"
            ]
          },
          "metadata": {},
          "execution_count": 56
        }
      ]
    },
    {
      "cell_type": "code",
      "source": [
        "df_original1['Popularity'] = pd.cut(df_original1.Popularity, bins=3, labels = ['low', 'medium', 'high'], right = True)"
      ],
      "metadata": {
        "id": "ZWteyE_UjzmE"
      },
      "execution_count": null,
      "outputs": []
    },
    {
      "cell_type": "code",
      "source": [
        "y = df_original1.Popularity\n",
        "y.value_counts()/y.count()"
      ],
      "metadata": {
        "id": "dUwsvSmfj2FL"
      },
      "execution_count": null,
      "outputs": []
    },
    {
      "cell_type": "code",
      "source": [
        "from imblearn.under_sampling import RandomUnderSampler\n",
        "from imblearn.over_sampling import RandomOverSampler\n",
        "\n",
        "ros = RandomOverSampler()\n",
        "X_ros, y_ros = ros.fit_resample(X, y)\n",
        "\n",
        "print(X_ros.shape, y_ros.shape)"
      ],
      "metadata": {
        "id": "jDTMe77fj9-Q"
      },
      "execution_count": null,
      "outputs": []
    },
    {
      "cell_type": "code",
      "source": [
        "y_ros.value_counts()"
      ],
      "metadata": {
        "id": "6peDgBDPkMNk"
      },
      "execution_count": null,
      "outputs": []
    },
    {
      "cell_type": "code",
      "source": [
        "X_ros.value_counts()"
      ],
      "metadata": {
        "id": "jLXvkeGKkOZ6"
      },
      "execution_count": null,
      "outputs": []
    },
    {
      "cell_type": "code",
      "source": [
        "feature_cols = ['Loudness', 'Energy', 'Danceability', 'Valence', 'Speechiness', 'Instrumentalness']\n",
        "X = data[feature_cols]"
      ],
      "metadata": {
        "id": "08o4AgdPkRKW"
      },
      "execution_count": null,
      "outputs": []
    },
    {
      "cell_type": "code",
      "source": [
        "from sklearn.neighbors import KNeighborsClassifier\n",
        "from sklearn.model_selection import train_test_split\n",
        "from sklearn.metrics import accuracy_score\n",
        "\n",
        "X_train, X_test, y_train, y_test = train_test_split(X_ros, y_ros, random_state=99, test_size=0.3)\n",
        "knn = KNeighborsClassifier(n_neighbors=1) # just try\n",
        "knn.fit(X_train, y_train)\n",
        "y_pred_class = knn.predict(X_test)\n",
        "print(accuracy_score(y_test, y_pred_class))"
      ],
      "metadata": {
        "id": "qJQMPm_DpL56"
      },
      "execution_count": null,
      "outputs": []
    },
    {
      "cell_type": "code",
      "source": [
        "knn2 = KNeighborsClassifier(n_neighbors=3) # log of the number of samples, preventing overfitting\n",
        "knn2.fit(X_train, y_train)\n",
        "y_pred_class = knn2.predict(X_test)\n",
        "print(accuracy_score(y_test, y_pred_class))"
      ],
      "metadata": {
        "id": "DBreyNtzkUAO"
      },
      "execution_count": null,
      "outputs": []
    },
    {
      "cell_type": "code",
      "source": [
        "from sklearn.metrics import confusion_matrix\n",
        "from sklearn.metrics import ConfusionMatrixDisplay\n",
        "import numpy as np \n",
        "\n",
        "cmat = confusion_matrix(y_test, y_pred_class)\n",
        "print('TP - True Negative {}'.format(cmat[0,0]))\n",
        "print('FP - False Positive {}'.format(cmat[0,1]))\n",
        "print('FN - False Negative {}'.format(cmat[1,0]))\n",
        "print('TP - True Positive {}'.format(cmat[1,1]))\n",
        "print(f'Accuracy Score: {accuracy_score(y_test, y_pred_class)}')\n",
        "print('Misclassification Rate: {}'.format(np.divide(np.sum([cmat[1,0], cmat[0,1], cmat[0,2], cmat[2,0], cmat[1,2], cmat[2,1]]), np.sum(cmat))))"
      ],
      "metadata": {
        "id": "m8EuqbP2kaOS"
      },
      "execution_count": null,
      "outputs": []
    },
    {
      "cell_type": "code",
      "source": [
        "cm_display = ConfusionMatrixDisplay(cmat).plot()"
      ],
      "metadata": {
        "id": "mXhmJO8_RrlG"
      },
      "execution_count": null,
      "outputs": []
    },
    {
      "cell_type": "markdown",
      "source": [
        "Cleaned Data:"
      ],
      "metadata": {
        "id": "Su1qrkzsju8r"
      }
    },
    {
      "cell_type": "code",
      "source": [
        "X_clean = df_original2.drop(columns=['Track ID', 'Name', 'Album', 'Release Date', 'Popularity'])\n",
        "y_clean = df_original2['Popularity']"
      ],
      "metadata": {
        "id": "pDBicEiOkZGj"
      },
      "execution_count": null,
      "outputs": []
    },
    {
      "cell_type": "code",
      "source": [
        "pd.cut(df_original2['Popularity'], bins=3)\n",
        "pd.cut(df_original2['Popularity'], bins=3, labels = ['low', 'medium', 'high']).value_counts()"
      ],
      "metadata": {
        "id": "2tA9ogShc47V"
      },
      "execution_count": null,
      "outputs": []
    },
    {
      "cell_type": "code",
      "source": [
        "df_original2['Popularity'] = pd.cut(df_original2.Popularity, bins=3, labels = ['low', 'medium', 'high'], right = True)"
      ],
      "metadata": {
        "id": "yas6lB9rdKxF"
      },
      "execution_count": null,
      "outputs": []
    },
    {
      "cell_type": "code",
      "source": [
        "y_clean = df_original2.Popularity\n",
        "y_clean.value_counts()/y_clean.count()"
      ],
      "metadata": {
        "id": "amEojv2GdTdN"
      },
      "execution_count": null,
      "outputs": []
    },
    {
      "cell_type": "code",
      "source": [
        "from imblearn.under_sampling import RandomUnderSampler\n",
        "from imblearn.over_sampling import RandomOverSampler\n",
        "\n",
        "ros = RandomOverSampler()\n",
        "X_ros2, y_ros2 = ros.fit_resample(X_clean, y_clean)\n",
        "\n",
        "print(X_ros2.shape, y_ros2.shape)"
      ],
      "metadata": {
        "id": "4qurAvsTccw6"
      },
      "execution_count": null,
      "outputs": []
    },
    {
      "cell_type": "code",
      "source": [
        "y_ros2.value_counts()"
      ],
      "metadata": {
        "id": "6RX1EHBjgro0"
      },
      "execution_count": null,
      "outputs": []
    },
    {
      "cell_type": "code",
      "source": [
        "X_ros2.value_counts()"
      ],
      "metadata": {
        "id": "XXgdnhZmguSF"
      },
      "execution_count": null,
      "outputs": []
    },
    {
      "cell_type": "code",
      "source": [
        "feature_cols = ['Loudness', 'Energy', 'Danceability', 'Valence', 'Speechiness', 'Instrumentalness']\n",
        "X_clean = data[feature_cols]"
      ],
      "metadata": {
        "id": "6taxu7iwhUkr"
      },
      "execution_count": null,
      "outputs": []
    },
    {
      "cell_type": "code",
      "source": [
        "from sklearn.neighbors import KNeighborsClassifier\n",
        "from sklearn.model_selection import train_test_split\n",
        "from sklearn.model_selection import GridSearchCV\n",
        "from sklearn.metrics import accuracy_score\n",
        "\n",
        "X_train2, X_test2, y_train2, y_test2 = train_test_split(X_ros2, y_ros2, random_state=99, test_size=0.2)\n",
        "knn = KNeighborsClassifier(n_neighbors=1) # just try\n",
        "knn.fit(X_train2, y_train2)\n",
        "y_pred_class2 = knn.predict(X_test2)\n",
        "print(accuracy_score(y_test2, y_pred_class2))"
      ],
      "metadata": {
        "id": "DxUdBYn6pRsJ"
      },
      "execution_count": null,
      "outputs": []
    },
    {
      "cell_type": "code",
      "source": [
        "knn2 = KNeighborsClassifier(n_neighbors=3)"
      ],
      "metadata": {
        "id": "E9SVvOxAhbRt"
      },
      "execution_count": null,
      "outputs": []
    },
    {
      "cell_type": "code",
      "source": [
        "knn2.fit(X_train2, y_train2)"
      ],
      "metadata": {
        "id": "PXSDd_nskxWK"
      },
      "execution_count": null,
      "outputs": []
    },
    {
      "cell_type": "code",
      "source": [
        "y_pred_class = knn2.predict(X_test2)\n",
        "print(accuracy_score(y_test2, y_pred_class2))"
      ],
      "metadata": {
        "id": "E11jMXc0jxQo"
      },
      "execution_count": null,
      "outputs": []
    },
    {
      "cell_type": "code",
      "source": [
        "y_pred_class2 = knn2.predict(X_train2)\n",
        "print(accuracy_score(y_train2, y_pred_class2))"
      ],
      "metadata": {
        "id": "Xa5IbDKWm07H"
      },
      "execution_count": null,
      "outputs": []
    },
    {
      "cell_type": "code",
      "source": [
        "from sklearn.metrics import confusion_matrix\n",
        "import numpy as np\n",
        "\n",
        "cmat = confusion_matrix(y_test2, y_pred_class2)\n",
        "print('TP - True Negative {}'.format(cmat[0,0]))\n",
        "print('FP - False Positive {}'.format(cmat[0,1]))\n",
        "print('FN - False Negative {}'.format(cmat[1,0]))\n",
        "print('TP - True Positive {}'.format(cmat[1,1]))\n",
        "print(f'Accuracy Score: {accuracy_score(y_test2, y_pred_class2)}')\n",
        "print('Misclassification Rate: {}'.format(np.divide(np.sum([cmat[1,0], cmat[0,1], cmat[0,2], cmat[2,0], cmat[1,2], cmat[2,1]]), np.sum(cmat))))"
      ],
      "metadata": {
        "id": "NJF-2ahOi3An"
      },
      "execution_count": null,
      "outputs": []
    },
    {
      "cell_type": "code",
      "source": [
        "from sklearn.metrics import ConfusionMatrixDisplay\n",
        "\n",
        "cm_display = ConfusionMatrixDisplay(cmat)\n",
        "fig, ax = plt.subplots(figsize=(20,20))\n",
        "cm_display.plot(ax=ax)"
      ],
      "metadata": {
        "id": "OPkQTesmRtBX"
      },
      "execution_count": null,
      "outputs": []
    }
  ]
}